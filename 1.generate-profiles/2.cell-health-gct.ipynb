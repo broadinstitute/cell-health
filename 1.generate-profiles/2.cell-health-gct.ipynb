{
 "cells": [
  {
   "cell_type": "markdown",
   "metadata": {},
   "source": [
    "# Build Cell Health Target Variable GCT Files\n",
    "\n",
    "**Gregory Way, 2019**\n",
    "\n",
    "For viewing heatmaps in Morpheus."
   ]
  },
  {
   "cell_type": "code",
   "execution_count": 1,
   "metadata": {},
   "outputs": [],
   "source": [
    "suppressPackageStartupMessages(library(dplyr))\n",
    "suppressPackageStartupMessages(library(magrittr))"
   ]
  },
  {
   "cell_type": "code",
   "execution_count": 2,
   "metadata": {},
   "outputs": [],
   "source": [
    "# Load function\n",
    "gct_file <- file.path(\"..\", \"..\", \"cytominer_scripts\", \"write_gct.R\")\n",
    "source(gct_file)"
   ]
  },
  {
   "cell_type": "code",
   "execution_count": 3,
   "metadata": {},
   "outputs": [
    {
     "data": {
      "text/html": [
       "<table>\n",
       "<caption>A tibble: 3 × 75</caption>\n",
       "<thead>\n",
       "\t<tr><th scope=col>Metadata_cell_id</th><th scope=col>Metadata_guide</th><th scope=col>Metadata_plate_name</th><th scope=col>Metadata_well_col</th><th scope=col>Metadata_well_row</th><th scope=col>cc_all_high_n_spots_h2ax_mean</th><th scope=col>cc_all_large_notround_polynuclear_mean</th><th scope=col>cc_all_large_round_polyploid_mean</th><th scope=col>cc_all_n_objects</th><th scope=col>cc_all_n_spots_mean</th><th scope=col>⋯</th><th scope=col>vb_num_live_cells</th><th scope=col>vb_percent_all_apoptosis</th><th scope=col>vb_percent_all_early_apoptosis</th><th scope=col>vb_percent_all_late_apoptosis</th><th scope=col>vb_percent_caspase_dead_only</th><th scope=col>vb_percent_dead</th><th scope=col>vb_percent_dead_only</th><th scope=col>vb_percent_live</th><th scope=col>vb_ros_back_mean</th><th scope=col>vb_ros_mean</th></tr>\n",
       "\t<tr><th scope=col>&lt;chr&gt;</th><th scope=col>&lt;chr&gt;</th><th scope=col>&lt;chr&gt;</th><th scope=col>&lt;int&gt;</th><th scope=col>&lt;chr&gt;</th><th scope=col>&lt;dbl&gt;</th><th scope=col>&lt;dbl&gt;</th><th scope=col>&lt;dbl&gt;</th><th scope=col>&lt;dbl&gt;</th><th scope=col>&lt;dbl&gt;</th><th scope=col>⋯</th><th scope=col>&lt;dbl&gt;</th><th scope=col>&lt;dbl&gt;</th><th scope=col>&lt;dbl&gt;</th><th scope=col>&lt;dbl&gt;</th><th scope=col>&lt;dbl&gt;</th><th scope=col>&lt;dbl&gt;</th><th scope=col>&lt;dbl&gt;</th><th scope=col>&lt;dbl&gt;</th><th scope=col>&lt;dbl&gt;</th><th scope=col>&lt;dbl&gt;</th></tr>\n",
       "</thead>\n",
       "<tbody>\n",
       "\t<tr><td>ES2</td><td>AKT1-1</td><td>Plate 1</td><td> 3</td><td>A</td><td> 0.6552294</td><td>-0.5656584</td><td>-0.8391862</td><td>-0.5137476</td><td> 0.3135995</td><td>⋯</td><td> 0.2813971</td><td>-0.27905098</td><td>-0.4291410</td><td>-0.17725772</td><td>-0.9203002</td><td>-0.13987528</td><td>-0.01654855</td><td>0.14057045</td><td>        NA</td><td>         NA</td></tr>\n",
       "\t<tr><td>ES2</td><td>AKT1-1</td><td>Plate 1</td><td>22</td><td>O</td><td>-0.2513359</td><td>-0.8164454</td><td>-0.5259402</td><td>-0.8198101</td><td>-0.4507993</td><td>⋯</td><td> 0.5437164</td><td>-0.22158826</td><td>-0.3110407</td><td>-0.14919820</td><td>-1.0701758</td><td>-0.04678261</td><td> 0.26855928</td><td>0.04016299</td><td>-0.2924803</td><td>0.008338859</td></tr>\n",
       "\t<tr><td>ES2</td><td>AKT1-1</td><td>Plate 2</td><td> 3</td><td>A</td><td> 0.3385678</td><td>-0.6839649</td><td> 0.9343115</td><td> 0.2923297</td><td> 0.2729857</td><td>⋯</td><td>-0.4720516</td><td>-0.05306747</td><td>-0.1271014</td><td>-0.01499609</td><td> 0.0980934</td><td>-0.03835341</td><td>-0.16118613</td><td>0.03822110</td><td>        NA</td><td>         NA</td></tr>\n",
       "</tbody>\n",
       "</table>\n"
      ],
      "text/latex": [
       "A tibble: 3 × 75\n",
       "\\begin{tabular}{r|lllllllllllllllllllllllllllllllllllllllllllllllllllllllllllllllllllllllllll}\n",
       " Metadata\\_cell\\_id & Metadata\\_guide & Metadata\\_plate\\_name & Metadata\\_well\\_col & Metadata\\_well\\_row & cc\\_all\\_high\\_n\\_spots\\_h2ax\\_mean & cc\\_all\\_large\\_notround\\_polynuclear\\_mean & cc\\_all\\_large\\_round\\_polyploid\\_mean & cc\\_all\\_n\\_objects & cc\\_all\\_n\\_spots\\_mean & cc\\_all\\_n\\_spots\\_per\\_nucleus\\_area\\_mean & cc\\_all\\_nucleus\\_area\\_mean & cc\\_all\\_nucleus\\_roundness\\_mean & cc\\_cc\\_edu\\_pos\\_mean & cc\\_cc\\_g1\\_mean & cc\\_cc\\_g2\\_ph3\\_neg\\_mean & cc\\_cc\\_g2\\_ph3\\_pos\\_early\\_mitosis\\_mean & cc\\_cc\\_high\\_n\\_spots\\_h2ax\\_mean & cc\\_cc\\_n\\_objects & cc\\_cc\\_n\\_spots\\_mean & cc\\_cc\\_n\\_spots\\_per\\_nucleus\\_area\\_mean & cc\\_cc\\_ph3\\_neg\\_hoechst\\_late\\_mitosis\\_mean & cc\\_cc\\_ph3\\_pos\\_hoechst\\_mitosis\\_mean & cc\\_edu\\_pos\\_alexa647\\_intensity\\_nucleus\\_area\\_mean & cc\\_edu\\_pos\\_alexa647\\_intensity\\_nucleus\\_area\\_sum & cc\\_edu\\_pos\\_high\\_n\\_spots\\_h2ax\\_mean & cc\\_edu\\_pos\\_n\\_objects & cc\\_edu\\_pos\\_n\\_spots\\_mean & cc\\_edu\\_pos\\_n\\_spots\\_per\\_nucleus\\_area\\_mean & cc\\_g1\\_high\\_n\\_spots\\_h2ax\\_mean & cc\\_g1\\_n\\_objects & cc\\_g1\\_n\\_spots\\_mean & cc\\_g1\\_n\\_spots\\_per\\_nucleus\\_area\\_mean & cc\\_g1\\_plus\\_g2 & cc\\_g2\\_g1 & cc\\_g2\\_ph3\\_neg\\_high\\_n\\_spots\\_h2ax\\_mean & cc\\_g2\\_ph3\\_neg\\_n\\_objects & cc\\_g2\\_ph3\\_neg\\_n\\_spots\\_mean & cc\\_g2\\_ph3\\_neg\\_n\\_spots\\_per\\_nucleus\\_area\\_mean & cc\\_g2\\_ph3\\_pos\\_high\\_n\\_spots\\_h2ax\\_mean & cc\\_g2\\_ph3\\_pos\\_n\\_objects & cc\\_g2\\_ph3\\_pos\\_n\\_spots\\_mean & cc\\_g2\\_ph3\\_pos\\_n\\_spots\\_per\\_nucleus\\_area\\_mean & cc\\_g2\\_plus\\_all\\_m & cc\\_infection\\_percentage & cc\\_mitosis\\_ph3\\_neg\\_high\\_n\\_spots\\_h2ax\\_mean & cc\\_mitosis\\_ph3\\_neg\\_n\\_objects & cc\\_mitosis\\_ph3\\_neg\\_n\\_spots\\_mean & cc\\_mitosis\\_ph3\\_neg\\_n\\_spots\\_per\\_nucleus\\_area\\_mean & cc\\_mitosis\\_ph3\\_pos\\_high\\_n\\_spots\\_h2ax\\_mean & cc\\_mitosis\\_ph3\\_pos\\_n\\_objects & cc\\_mitosis\\_ph3\\_pos\\_n\\_spots\\_mean & cc\\_mitosis\\_ph3\\_pos\\_n\\_spots\\_per\\_nucleus\\_area\\_mean & cc\\_polynuclear\\_high\\_n\\_spots\\_h2ax\\_mean & cc\\_polynuclear\\_n\\_objects & cc\\_polynuclear\\_n\\_spots\\_mean & cc\\_polynuclear\\_n\\_spots\\_per\\_nucleus\\_area\\_mean & cc\\_polyploid\\_high\\_n\\_spots\\_h2ax\\_mean & cc\\_polyploid\\_n\\_objects & cc\\_polyploid\\_n\\_spots\\_mean & cc\\_polyploid\\_n\\_spots\\_per\\_nucleus\\_area\\_mean & vb\\_infection\\_percentage & vb\\_live\\_cell\\_area & vb\\_live\\_cell\\_roundness & vb\\_live\\_cell\\_width\\_length & vb\\_num\\_live\\_cells & vb\\_percent\\_all\\_apoptosis & vb\\_percent\\_all\\_early\\_apoptosis & vb\\_percent\\_all\\_late\\_apoptosis & vb\\_percent\\_caspase\\_dead\\_only & vb\\_percent\\_dead & vb\\_percent\\_dead\\_only & vb\\_percent\\_live & vb\\_ros\\_back\\_mean & vb\\_ros\\_mean\\\\\n",
       " <chr> & <chr> & <chr> & <int> & <chr> & <dbl> & <dbl> & <dbl> & <dbl> & <dbl> & <dbl> & <dbl> & <dbl> & <dbl> & <dbl> & <dbl> & <dbl> & <dbl> & <dbl> & <dbl> & <dbl> & <dbl> & <dbl> & <dbl> & <dbl> & <dbl> & <dbl> & <dbl> & <dbl> & <dbl> & <dbl> & <dbl> & <dbl> & <dbl> & <dbl> & <dbl> & <dbl> & <dbl> & <dbl> & <dbl> & <dbl> & <dbl> & <dbl> & <dbl> & <dbl> & <dbl> & <dbl> & <dbl> & <dbl> & <dbl> & <dbl> & <dbl> & <dbl> & <dbl> & <dbl> & <dbl> & <dbl> & <dbl> & <dbl> & <dbl> & <dbl> & <dbl> & <dbl> & <dbl> & <dbl> & <dbl> & <dbl> & <dbl> & <dbl> & <dbl> & <dbl> & <dbl> & <dbl> & <dbl> & <dbl>\\\\\n",
       "\\hline\n",
       "\t ES2 & AKT1-1 & Plate 1 &  3 & A &  0.6552294 & -0.5656584 & -0.8391862 & -0.5137476 &  0.3135995 &  0.263062372 &  0.10998295 & -0.2265125 &  0.2233237 & -0.08893243 & -0.4829087 &  0.46068766 &  0.1120850 & -0.5143378 &  0.2493224 &  0.34380025 & -0.6366145 & 0.09309967 & -0.6238655 & -0.4688150 &  0.3964842 & -0.39488533 & 0.81113042 &  0.8764496 & -0.17721220 & -0.5684114 & -0.02397213 & -0.0818230 & -0.2381518 & -0.2652033 & 0.7665603 & -0.80148362 & 0.7111174 & 0.9854646 & 0.0000000 &  0.3173345 & -0.817696272 & -0.5758090 & -0.3703316 & -0.1083880 & 0.000000 & -0.57876730 &  0.4129028 &  0.9260497 & 0 & -0.2169417 &  0.965716714 & 0.2292335 &  2.7930075 & -0.5818242 &  1.8608368 &  1.4814943 & -0.1839393 & -1.154458 & 0.3126524 & -0.06921394 & -0.1083880 &  0.3647208 & -0.05426333 &  0.2759061 &  0.2813971 & -0.27905098 & -0.4291410 & -0.17725772 & -0.9203002 & -0.13987528 & -0.01654855 & 0.14057045 &         NA &          NA\\\\\n",
       "\t ES2 & AKT1-1 & Plate 1 & 22 & O & -0.2513359 & -0.8164454 & -0.5259402 & -0.8198101 & -0.4507993 & -0.811628456 & -0.46887466 & -0.1677870 & -0.2791546 &  0.64664430 & -0.7501913 & -0.08205999 & -0.2327447 & -0.7920802 & -0.3158084 & -0.63700348 & -0.8827258 & 0.39691394 &  0.7839435 & -0.5894956 & -0.6112828 & -0.75564476 & 0.02443164 & -0.1568128 &  0.04616237 & -0.6957356 & -0.41551684 & -0.5748590 &  0.3680527 & -0.6042023 & 0.3709163 & -1.16579435 & 0.7321755 & 0.5209781 & 0.0000000 & -0.9520035 & -0.452956234 & -0.5077026 & -0.5504383 &  0.3472993 & 0.000000 & -0.79925009 & -0.4774189 & -0.4865830 & 0 & -0.1084709 & -0.004836645 & 0.6255800 & -0.6872954 & -0.8311774 & -0.4164110 & -0.5649767 &  0.5889150 & -1.010150 & 1.6263179 &  1.49712762 &  0.3472993 & -1.5409931 & -0.53660407 & -0.2348137 &  0.5437164 & -0.22158826 & -0.3110407 & -0.14919820 & -1.0701758 & -0.04678261 &  0.26855928 & 0.04016299 & -0.2924803 & 0.008338859\\\\\n",
       "\t ES2 & AKT1-1 & Plate 2 &  3 & A &  0.3385678 & -0.6839649 &  0.9343115 &  0.2923297 &  0.2729857 & -0.007936035 &  0.08373204 &  0.0512201 & -0.4589984 &  0.47256044 & -0.4563404 &  0.36206307 &  0.4571769 &  0.2946990 &  0.3408389 &  0.06573899 & -0.4518660 & 0.16555746 & -1.3819466 & -0.1525928 &  0.1058853 &  0.09994718 & 0.81869303 &  0.6926190 &  0.04484973 &  0.4370180 & -0.15075419 & -0.4874894 &  0.2853730 & -0.5994838 & 1.3086149 & -0.03560591 & 0.9512553 & 0.9064650 & 0.5129084 &  1.3208117 & -0.009501692 & -0.3080635 & -0.1549808 & -0.1077075 & 1.472982 & -0.00880891 &  0.6580622 &  1.0599048 & 0 &  0.7921552 &  0.583699908 & 1.3709188 & -0.4159118 & -0.4588499 & -0.3195611 & -0.1157977 &  0.6281063 &  1.462394 & 0.1541093 & -0.04181469 & -0.1077075 &  0.1658609 & -1.19745653 & -0.9052127 & -0.4720516 & -0.05306747 & -0.1271014 & -0.01499609 &  0.0980934 & -0.03835341 & -0.16118613 & 0.03822110 &         NA &          NA\\\\\n",
       "\\end{tabular}\n"
      ],
      "text/markdown": [
       "\n",
       "A tibble: 3 × 75\n",
       "\n",
       "| Metadata_cell_id &lt;chr&gt; | Metadata_guide &lt;chr&gt; | Metadata_plate_name &lt;chr&gt; | Metadata_well_col &lt;int&gt; | Metadata_well_row &lt;chr&gt; | cc_all_high_n_spots_h2ax_mean &lt;dbl&gt; | cc_all_large_notround_polynuclear_mean &lt;dbl&gt; | cc_all_large_round_polyploid_mean &lt;dbl&gt; | cc_all_n_objects &lt;dbl&gt; | cc_all_n_spots_mean &lt;dbl&gt; | ⋯ ⋯ | vb_num_live_cells &lt;dbl&gt; | vb_percent_all_apoptosis &lt;dbl&gt; | vb_percent_all_early_apoptosis &lt;dbl&gt; | vb_percent_all_late_apoptosis &lt;dbl&gt; | vb_percent_caspase_dead_only &lt;dbl&gt; | vb_percent_dead &lt;dbl&gt; | vb_percent_dead_only &lt;dbl&gt; | vb_percent_live &lt;dbl&gt; | vb_ros_back_mean &lt;dbl&gt; | vb_ros_mean &lt;dbl&gt; |\n",
       "|---|---|---|---|---|---|---|---|---|---|---|---|---|---|---|---|---|---|---|---|---|\n",
       "| ES2 | AKT1-1 | Plate 1 |  3 | A |  0.6552294 | -0.5656584 | -0.8391862 | -0.5137476 |  0.3135995 | ⋯ |  0.2813971 | -0.27905098 | -0.4291410 | -0.17725772 | -0.9203002 | -0.13987528 | -0.01654855 | 0.14057045 |         NA |          NA |\n",
       "| ES2 | AKT1-1 | Plate 1 | 22 | O | -0.2513359 | -0.8164454 | -0.5259402 | -0.8198101 | -0.4507993 | ⋯ |  0.5437164 | -0.22158826 | -0.3110407 | -0.14919820 | -1.0701758 | -0.04678261 |  0.26855928 | 0.04016299 | -0.2924803 | 0.008338859 |\n",
       "| ES2 | AKT1-1 | Plate 2 |  3 | A |  0.3385678 | -0.6839649 |  0.9343115 |  0.2923297 |  0.2729857 | ⋯ | -0.4720516 | -0.05306747 | -0.1271014 | -0.01499609 |  0.0980934 | -0.03835341 | -0.16118613 | 0.03822110 |         NA |          NA |\n",
       "\n"
      ],
      "text/plain": [
       "  Metadata_cell_id Metadata_guide Metadata_plate_name Metadata_well_col\n",
       "1 ES2              AKT1-1         Plate 1              3               \n",
       "2 ES2              AKT1-1         Plate 1             22               \n",
       "3 ES2              AKT1-1         Plate 2              3               \n",
       "  Metadata_well_row cc_all_high_n_spots_h2ax_mean\n",
       "1 A                  0.6552294                   \n",
       "2 O                 -0.2513359                   \n",
       "3 A                  0.3385678                   \n",
       "  cc_all_large_notround_polynuclear_mean cc_all_large_round_polyploid_mean\n",
       "1 -0.5656584                             -0.8391862                       \n",
       "2 -0.8164454                             -0.5259402                       \n",
       "3 -0.6839649                              0.9343115                       \n",
       "  cc_all_n_objects cc_all_n_spots_mean ⋯ vb_num_live_cells\n",
       "1 -0.5137476        0.3135995          ⋯  0.2813971       \n",
       "2 -0.8198101       -0.4507993          ⋯  0.5437164       \n",
       "3  0.2923297        0.2729857          ⋯ -0.4720516       \n",
       "  vb_percent_all_apoptosis vb_percent_all_early_apoptosis\n",
       "1 -0.27905098              -0.4291410                    \n",
       "2 -0.22158826              -0.3110407                    \n",
       "3 -0.05306747              -0.1271014                    \n",
       "  vb_percent_all_late_apoptosis vb_percent_caspase_dead_only vb_percent_dead\n",
       "1 -0.17725772                   -0.9203002                   -0.13987528    \n",
       "2 -0.14919820                   -1.0701758                   -0.04678261    \n",
       "3 -0.01499609                    0.0980934                   -0.03835341    \n",
       "  vb_percent_dead_only vb_percent_live vb_ros_back_mean vb_ros_mean\n",
       "1 -0.01654855          0.14057045              NA                NA\n",
       "2  0.26855928          0.04016299      -0.2924803       0.008338859\n",
       "3 -0.16118613          0.03822110              NA                NA"
      ]
     },
     "metadata": {},
     "output_type": "display_data"
    }
   ],
   "source": [
    "# Load Cell Health Labels and Recode Metadata\n",
    "label_file <- file.path(\"data\", \"labels\", \"normalized_cell_health_labels.tsv\")\n",
    "labels_df <- readr::read_tsv(label_file, col_types=readr::cols()) %>%\n",
    "    dplyr::rename(\"Metadata_cell_id\" = \"cell_id\",\n",
    "                  \"Metadata_guide\" = \"guide\",\n",
    "                  \"Metadata_plate_name\" = \"plate_name\",\n",
    "                  \"Metadata_well_col\" = \"well_col\",\n",
    "                  \"Metadata_well_row\" = \"well_row\")\n",
    "\n",
    "head(labels_df, 3)"
   ]
  },
  {
   "cell_type": "code",
   "execution_count": 4,
   "metadata": {},
   "outputs": [],
   "source": [
    "channels <- NULL\n",
    "create_row_annotations <- TRUE\n",
    "feature_regex <- \"^cc_|vb_\"\n",
    "output <- file.path(\"data\", \"labels\", \"normalized_cell_health_labels.gct\")"
   ]
  },
  {
   "cell_type": "code",
   "execution_count": 5,
   "metadata": {},
   "outputs": [
    {
     "name": "stderr",
     "output_type": "stream",
     "text": [
      "Warning message:\n",
      "“The `printer` argument is deprecated as of rlang 0.3.0.\n",
      "\u001b[90mThis warning is displayed once per session.\u001b[39m”Warning message:\n",
      "“`lgl_len()` is deprecated as of rlang 0.2.0.\n",
      "Please use `new_logical()` instead.\n",
      "\u001b[90mThis warning is displayed once per session.\u001b[39m”Warning message:\n",
      "“`is_lang()` is deprecated as of rlang 0.2.0.\n",
      "Please use `is_call()` instead.\n",
      "\u001b[90mThis warning is displayed once per session.\u001b[39m”Warning message:\n",
      "“`lang()` is deprecated as of rlang 0.2.0.\n",
      "Please use `call2()` instead.\n",
      "\u001b[90mThis warning is displayed once per session.\u001b[39m”Warning message:\n",
      "“`data_frame()` is deprecated, use `tibble()`.\n",
      "\u001b[90mThis warning is displayed once per session.\u001b[39m”"
     ]
    }
   ],
   "source": [
    "write_gct(x = labels_df,\n",
    "          path = output,\n",
    "          channels = channels,\n",
    "          create_row_annotations = create_row_annotations,\n",
    "          feature_regex = feature_regex)"
   ]
  }
 ],
 "metadata": {
  "kernelspec": {
   "display_name": "R [conda env:cell-health] *",
   "language": "R",
   "name": "conda-env-cell-health-r"
  },
  "language_info": {
   "codemirror_mode": "r",
   "file_extension": ".r",
   "mimetype": "text/x-r-source",
   "name": "R",
   "pygments_lexer": "r",
   "version": "3.5.1"
  }
 },
 "nbformat": 4,
 "nbformat_minor": 2
}
