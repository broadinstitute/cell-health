{
 "cells": [
  {
   "cell_type": "markdown",
   "metadata": {},
   "source": [
    "# Describe Cell Count in the Cell Painting Experiment"
   ]
  },
  {
   "cell_type": "code",
   "execution_count": 1,
   "metadata": {},
   "outputs": [],
   "source": [
    "import pathlib\n",
    "import pandas as pd"
   ]
  },
  {
   "cell_type": "code",
   "execution_count": 2,
   "metadata": {},
   "outputs": [
    {
     "name": "stdout",
     "output_type": "stream",
     "text": [
      "(3456, 6)\n"
     ]
    },
    {
     "data": {
      "text/html": [
       "<div>\n",
       "<style scoped>\n",
       "    .dataframe tbody tr th:only-of-type {\n",
       "        vertical-align: middle;\n",
       "    }\n",
       "\n",
       "    .dataframe tbody tr th {\n",
       "        vertical-align: top;\n",
       "    }\n",
       "\n",
       "    .dataframe thead th {\n",
       "        text-align: right;\n",
       "    }\n",
       "</style>\n",
       "<table border=\"1\" class=\"dataframe\">\n",
       "  <thead>\n",
       "    <tr style=\"text-align: right;\">\n",
       "      <th></th>\n",
       "      <th>Image_Metadata_Well</th>\n",
       "      <th>cell_count</th>\n",
       "      <th>gene_name</th>\n",
       "      <th>pert_name</th>\n",
       "      <th>broad_sample</th>\n",
       "      <th>cell_line</th>\n",
       "    </tr>\n",
       "  </thead>\n",
       "  <tbody>\n",
       "    <tr>\n",
       "      <th>0</th>\n",
       "      <td>A01</td>\n",
       "      <td>4335</td>\n",
       "      <td>EMPTY</td>\n",
       "      <td>EMPTY</td>\n",
       "      <td>NaN</td>\n",
       "      <td>A549</td>\n",
       "    </tr>\n",
       "    <tr>\n",
       "      <th>1</th>\n",
       "      <td>A02</td>\n",
       "      <td>4129</td>\n",
       "      <td>MCL1</td>\n",
       "      <td>MCL1-5</td>\n",
       "      <td>NaN</td>\n",
       "      <td>A549</td>\n",
       "    </tr>\n",
       "    <tr>\n",
       "      <th>2</th>\n",
       "      <td>A03</td>\n",
       "      <td>4895</td>\n",
       "      <td>AKT1</td>\n",
       "      <td>AKT1-1</td>\n",
       "      <td>BRDN0001054908</td>\n",
       "      <td>A549</td>\n",
       "    </tr>\n",
       "    <tr>\n",
       "      <th>3</th>\n",
       "      <td>A04</td>\n",
       "      <td>4261</td>\n",
       "      <td>KRAS</td>\n",
       "      <td>KRAS-2B</td>\n",
       "      <td>NaN</td>\n",
       "      <td>A549</td>\n",
       "    </tr>\n",
       "    <tr>\n",
       "      <th>4</th>\n",
       "      <td>A05</td>\n",
       "      <td>4474</td>\n",
       "      <td>AKT1</td>\n",
       "      <td>AKT1-2</td>\n",
       "      <td>BRDN0001055115</td>\n",
       "      <td>A549</td>\n",
       "    </tr>\n",
       "  </tbody>\n",
       "</table>\n",
       "</div>"
      ],
      "text/plain": [
       "  Image_Metadata_Well  cell_count gene_name pert_name    broad_sample  \\\n",
       "0                 A01        4335     EMPTY     EMPTY             NaN   \n",
       "1                 A02        4129      MCL1    MCL1-5             NaN   \n",
       "2                 A03        4895      AKT1    AKT1-1  BRDN0001054908   \n",
       "3                 A04        4261      KRAS   KRAS-2B             NaN   \n",
       "4                 A05        4474      AKT1    AKT1-2  BRDN0001055115   \n",
       "\n",
       "  cell_line  \n",
       "0      A549  \n",
       "1      A549  \n",
       "2      A549  \n",
       "3      A549  \n",
       "4      A549  "
      ]
     },
     "execution_count": 2,
     "metadata": {},
     "output_type": "execute_result"
    }
   ],
   "source": [
    "cell_count_dir = pathlib.Path(\"results\")\n",
    "\n",
    "cell_count_df = []\n",
    "for file in cell_count_dir.iterdir():\n",
    "    if \"cell_count\" in str(file):\n",
    "        plate = file.name.split(\"_\")[0]\n",
    "        df = pd.read_csv(file, sep=\"\\t\").rename({plate: \"cell_count\"}, axis=\"columns\")\n",
    "        cell_count_df.append(df)\n",
    "        \n",
    "cell_count_df = pd.concat(cell_count_df)\n",
    "\n",
    "print(cell_count_df.shape)\n",
    "cell_count_df.head()"
   ]
  },
  {
   "cell_type": "code",
   "execution_count": 3,
   "metadata": {},
   "outputs": [
    {
     "data": {
      "text/plain": [
       "8964210"
      ]
     },
     "execution_count": 3,
     "metadata": {},
     "output_type": "execute_result"
    }
   ],
   "source": [
    "# Total number of cells\n",
    "cell_count_df.cell_count.sum()"
   ]
  },
  {
   "cell_type": "code",
   "execution_count": 4,
   "metadata": {},
   "outputs": [
    {
     "data": {
      "text/plain": [
       "pert_name\n",
       "EMPTY        1463714\n",
       "Chr2-4        211271\n",
       "PPIB-1        209781\n",
       "ORC4-1        200664\n",
       "Chr2-5        199379\n",
       "ORC4-2        197358\n",
       "Chr2-2        194806\n",
       "Chr2-6        192870\n",
       "Chr2-1        185315\n",
       "Chr2-3        183403\n",
       "PPIB-2        176050\n",
       "Luc-1         142910\n",
       "PSMA1-1       140953\n",
       "POLR2D-2      109563\n",
       "PSMA1-2       108587\n",
       "LacZ-2        105392\n",
       "LacZ-3        104454\n",
       "POLR2D-1       92795\n",
       "Luc-2          81260\n",
       "EGFR-1         57288\n",
       "RAC1-1         56834\n",
       "BCL2L2-2       56170\n",
       "KRAS-2B        55988\n",
       "CTNNB1-2       55812\n",
       "DOT1L-2        55738\n",
       "PRDX1-1        55607\n",
       "HIF1a-2        55189\n",
       "AKT1-2         54979\n",
       "SMARCB1-2      54574\n",
       "PIK3CA-2       53948\n",
       "              ...   \n",
       "KRAS-2A        45431\n",
       "SLC2A1-1       45242\n",
       "JAK3-1         44971\n",
       "SUZ12-1        44777\n",
       "KRAS-1         44356\n",
       "BRD4-2         43380\n",
       "COX5B-2        43201\n",
       "GPX4-2         43167\n",
       "CCND1-1        41903\n",
       "EGLN1-9        41728\n",
       "GLS-2          41450\n",
       "CDK2-1         41313\n",
       "CCNE1-1        41002\n",
       "ATP50-2        40910\n",
       "SUZ12-2        40431\n",
       "ATF4-2         40300\n",
       "CCNE1-2        39392\n",
       "GPX4-1         39387\n",
       "CDK4-2         38636\n",
       "CDK4-1         37772\n",
       "CDK4-3         35261\n",
       "ATF4-1         32303\n",
       "CDK2-2         31298\n",
       "MYC-2          30051\n",
       "CCND1-2        28303\n",
       "ITGAV-1        27842\n",
       "MYC-1          26297\n",
       "ITGAV-2        24787\n",
       "KIF11-1        19631\n",
       "KIF11-2        18511\n",
       "Name: cell_count, Length: 119, dtype: int64"
      ]
     },
     "execution_count": 4,
     "metadata": {},
     "output_type": "execute_result"
    }
   ],
   "source": [
    "# Count cells by perturbation\n",
    "cell_count_df.groupby(\"pert_name\")[\"cell_count\"].sum().sort_values(ascending=False)"
   ]
  },
  {
   "cell_type": "code",
   "execution_count": 5,
   "metadata": {},
   "outputs": [
    {
     "data": {
      "text/plain": [
       "cell_line\n",
       "A549     4318583\n",
       "ES2      2182869\n",
       "HCC44    2462758\n",
       "Name: cell_count, dtype: int64"
      ]
     },
     "execution_count": 5,
     "metadata": {},
     "output_type": "execute_result"
    }
   ],
   "source": [
    "# Cell count by cell line\n",
    "cell_line_groupby = cell_count_df.groupby(\"cell_line\")\n",
    "cell_line_groupby[\"cell_count\"].sum()"
   ]
  },
  {
   "cell_type": "code",
   "execution_count": 6,
   "metadata": {},
   "outputs": [
    {
     "data": {
      "text/plain": [
       "cell_line\n",
       "A549     AxesSubplot(0.125,0.125;0.775x0.755)\n",
       "ES2      AxesSubplot(0.125,0.125;0.775x0.755)\n",
       "HCC44    AxesSubplot(0.125,0.125;0.775x0.755)\n",
       "Name: cell_count, dtype: object"
      ]
     },
     "execution_count": 6,
     "metadata": {},
     "output_type": "execute_result"
    },
    {
     "data": {
      "image/png": "[encoded data removed]",
      "text/plain": [
       "<Figure size 432x288 with 1 Axes>"
      ]
     },
     "metadata": {
      "needs_background": "light"
     },
     "output_type": "display_data"
    }
   ],
   "source": [
    "cell_line_groupby[\"cell_count\"].hist(bins=30)"
   ]
  },
  {
   "cell_type": "code",
   "execution_count": 7,
   "metadata": {},
   "outputs": [
    {
     "name": "stdout",
     "output_type": "stream",
     "text": [
      "SQ00014618:\n",
      "(384, 1785)\n",
      "SQ00014611:\n",
      "(384, 1785)\n",
      "SQ00014616:\n",
      "(384, 1785)\n",
      "SQ00014617:\n",
      "(384, 1785)\n",
      "SQ00014610:\n",
      "(384, 1785)\n",
      "SQ00014615:\n",
      "(384, 1785)\n",
      "SQ00014612:\n",
      "(384, 1785)\n",
      "SQ00014613:\n",
      "(384, 1785)\n",
      "SQ00014614:\n",
      "(384, 1785)\n"
     ]
    }
   ],
   "source": [
    "# Also, how many features?\n",
    "profile_dir = pathlib.Path(\"data\", \"profiles\")\n",
    "for file in profile_dir.iterdir():\n",
    "    plate = file.name\n",
    "    plate_dir = pathlib.Path(profile_dir, plate)\n",
    "    if plate != '.DS_Store':\n",
    "        profile_file = plate_dir / f\"{plate}.csv.gz\"\n",
    "        profile_df = pd.read_csv(profile_file)\n",
    "        print(f\"{plate}:\")\n",
    "        print(profile_df.shape)"
   ]
  }
 ],
 "metadata": {
  "kernelspec": {
   "display_name": "Python 3",
   "language": "python",
   "name": "python3"
  },
  "language_info": {
   "codemirror_mode": {
    "name": "ipython",
    "version": 3
   },
   "file_extension": ".py",
   "mimetype": "text/x-python",
   "name": "python",
   "nbconvert_exporter": "python",
   "pygments_lexer": "ipython3",
   "version": "3.7.1"
  }
 },
 "nbformat": 4,
 "nbformat_minor": 4
}
