{
 "cells": [
  {
   "cell_type": "markdown",
   "metadata": {},
   "source": [
    "## Visualize Distribution of Recoded Features\n",
    "\n",
    "**Gregory Way, 2019**\n",
    "\n",
    "A major component of the machine learning procedure was to binarize target variables for input into a machine learning classification framework.\n",
    "\n",
    "Here, I visualize this recoding scheme.\n",
    "\n",
    "I also determine the extend of confounding variables in the recoding scheme.\n",
    "Basically, asking if there are any plate effects or other potential technical artifacts."
   ]
  },
  {
   "cell_type": "code",
   "execution_count": 1,
   "metadata": {},
   "outputs": [],
   "source": [
    "suppressPackageStartupMessages(library(ggplot2))\n",
    "suppressPackageStartupMessages(library(dplyr))"
   ]
  },
  {
   "cell_type": "code",
   "execution_count": 2,
   "metadata": {},
   "outputs": [],
   "source": [
    "# Load Data\n",
    "y_cols <- readr::cols(\n",
    "    Metadata_profile_id = readr::col_character(),\n",
    "    recode_target_value = readr::col_double(),\n",
    "    target = readr::col_character(),\n",
    "    data_type = readr::col_character(),\n",
    "    shuffle = readr::col_character(),\n",
    "    y_transform = readr::col_character(),\n",
    "    y_type = readr::col_character()\n",
    ")\n",
    "\n",
    "y_file <- file.path(\"results\", \"full_cell_health_y_labels.tsv.gz\")\n",
    "y_df <- readr::read_tsv(y_file,\n",
    "                        col_types = y_cols)\n",
    "\n",
    "y_binary_df <- y_df %>%\n",
    "    dplyr::filter(shuffle == \"shuffle_false\",\n",
    "                  y_transform == \"binarize\",\n",
    "                  y_type == \"y_true\")\n",
    "\n",
    "y_raw_scores_df <- y_df %>%\n",
    "    dplyr::filter(shuffle == \"shuffle_false\",\n",
    "                  y_transform == \"raw\",\n",
    "                  y_type == \"y_true\")"
   ]
  },
  {
   "cell_type": "code",
   "execution_count": 3,
   "metadata": {},
   "outputs": [
    {
     "name": "stderr",
     "output_type": "stream",
     "text": [
      "Warning message:\n",
      "“`chr_along()` is deprecated as of rlang 0.2.0.\n",
      "\u001b[90mThis warning is displayed once per session.\u001b[39m”"
     ]
    },
    {
     "data": {
      "text/html": [
       "<table>\n",
       "<caption>A tibble: 3 × 9</caption>\n",
       "<thead>\n",
       "\t<tr><th scope=col>Metadata_profile_id</th><th scope=col>recode_target_value_raw</th><th scope=col>target</th><th scope=col>data_type</th><th scope=col>shuffle</th><th scope=col>y_transform_raw</th><th scope=col>y_type</th><th scope=col>recode_target_value_binary</th><th scope=col>y_transform_binary</th></tr>\n",
       "\t<tr><th scope=col>&lt;chr&gt;</th><th scope=col>&lt;dbl&gt;</th><th scope=col>&lt;chr&gt;</th><th scope=col>&lt;chr&gt;</th><th scope=col>&lt;chr&gt;</th><th scope=col>&lt;chr&gt;</th><th scope=col>&lt;chr&gt;</th><th scope=col>&lt;dbl&gt;</th><th scope=col>&lt;chr&gt;</th></tr>\n",
       "</thead>\n",
       "<tbody>\n",
       "\t<tr><td>profile_346</td><td>-0.7839227</td><td>cc_all_high_n_spots_h2ax_mean</td><td>Train</td><td>shuffle_false</td><td>raw</td><td>y_true</td><td>0</td><td>binarize</td></tr>\n",
       "\t<tr><td>profile_185</td><td> 4.8193411</td><td>cc_all_high_n_spots_h2ax_mean</td><td>Train</td><td>shuffle_false</td><td>raw</td><td>y_true</td><td>1</td><td>binarize</td></tr>\n",
       "\t<tr><td>profile_3  </td><td>-0.1389207</td><td>cc_all_high_n_spots_h2ax_mean</td><td>Train</td><td>shuffle_false</td><td>raw</td><td>y_true</td><td>0</td><td>binarize</td></tr>\n",
       "</tbody>\n",
       "</table>\n"
      ],
      "text/latex": [
       "A tibble: 3 × 9\n",
       "\\begin{tabular}{r|lllllllll}\n",
       " Metadata\\_profile\\_id & recode\\_target\\_value\\_raw & target & data\\_type & shuffle & y\\_transform\\_raw & y\\_type & recode\\_target\\_value\\_binary & y\\_transform\\_binary\\\\\n",
       " <chr> & <dbl> & <chr> & <chr> & <chr> & <chr> & <chr> & <dbl> & <chr>\\\\\n",
       "\\hline\n",
       "\t profile\\_346 & -0.7839227 & cc\\_all\\_high\\_n\\_spots\\_h2ax\\_mean & Train & shuffle\\_false & raw & y\\_true & 0 & binarize\\\\\n",
       "\t profile\\_185 &  4.8193411 & cc\\_all\\_high\\_n\\_spots\\_h2ax\\_mean & Train & shuffle\\_false & raw & y\\_true & 1 & binarize\\\\\n",
       "\t profile\\_3   & -0.1389207 & cc\\_all\\_high\\_n\\_spots\\_h2ax\\_mean & Train & shuffle\\_false & raw & y\\_true & 0 & binarize\\\\\n",
       "\\end{tabular}\n"
      ],
      "text/markdown": [
       "\n",
       "A tibble: 3 × 9\n",
       "\n",
       "| Metadata_profile_id &lt;chr&gt; | recode_target_value_raw &lt;dbl&gt; | target &lt;chr&gt; | data_type &lt;chr&gt; | shuffle &lt;chr&gt; | y_transform_raw &lt;chr&gt; | y_type &lt;chr&gt; | recode_target_value_binary &lt;dbl&gt; | y_transform_binary &lt;chr&gt; |\n",
       "|---|---|---|---|---|---|---|---|---|\n",
       "| profile_346 | -0.7839227 | cc_all_high_n_spots_h2ax_mean | Train | shuffle_false | raw | y_true | 0 | binarize |\n",
       "| profile_185 |  4.8193411 | cc_all_high_n_spots_h2ax_mean | Train | shuffle_false | raw | y_true | 1 | binarize |\n",
       "| profile_3   | -0.1389207 | cc_all_high_n_spots_h2ax_mean | Train | shuffle_false | raw | y_true | 0 | binarize |\n",
       "\n"
      ],
      "text/plain": [
       "  Metadata_profile_id recode_target_value_raw target                       \n",
       "1 profile_346         -0.7839227              cc_all_high_n_spots_h2ax_mean\n",
       "2 profile_185          4.8193411              cc_all_high_n_spots_h2ax_mean\n",
       "3 profile_3           -0.1389207              cc_all_high_n_spots_h2ax_mean\n",
       "  data_type shuffle       y_transform_raw y_type recode_target_value_binary\n",
       "1 Train     shuffle_false raw             y_true 0                         \n",
       "2 Train     shuffle_false raw             y_true 1                         \n",
       "3 Train     shuffle_false raw             y_true 0                         \n",
       "  y_transform_binary\n",
       "1 binarize          \n",
       "2 binarize          \n",
       "3 binarize          "
      ]
     },
     "metadata": {},
     "output_type": "display_data"
    }
   ],
   "source": [
    "# Process data for plotting\n",
    "y_plot_df <- y_raw_scores_df %>%\n",
    "    dplyr::inner_join(y_binary_df,\n",
    "                      by = c(\"Metadata_profile_id\",\n",
    "                             \"target\",\n",
    "                             \"data_type\",\n",
    "                             \"shuffle\",\n",
    "                             \"y_type\"),\n",
    "                      suffix = c(\"_raw\", \"_binary\"))\n",
    "\n",
    "y_plot_df$data_type <- dplyr::recode(y_plot_df$data_type,\n",
    "                                     \"train\" = \"Train\",\n",
    "                                     \"test\" = \"Test\")\n",
    "\n",
    "head(y_plot_df, 3)"
   ]
  },
  {
   "cell_type": "code",
   "execution_count": 4,
   "metadata": {},
   "outputs": [
    {
     "data": {
      "text/html": [
       "<strong>pdf:</strong> 2"
      ],
      "text/latex": [
       "\\textbf{pdf:} 2"
      ],
      "text/markdown": [
       "**pdf:** 2"
      ],
      "text/plain": [
       "pdf \n",
       "  2 "
      ]
     },
     "metadata": {},
     "output_type": "display_data"
    }
   ],
   "source": [
    "# Generate and save figures\n",
    "pdf_file <- file.path(\"figures\", \"all_binary_distributions.pdf\")\n",
    "pdf(pdf_file, width = 5, height = 3.5, onefile = TRUE)\n",
    "\n",
    "for (target in unique(y_plot_df$target)) {\n",
    "    y_plot_subset_df = y_plot_df %>%\n",
    "        dplyr::filter(target == !!target)\n",
    "\n",
    "    target_gg <- \n",
    "        ggplot(y_plot_subset_df,\n",
    "               aes(x = recode_target_value_raw,\n",
    "                   fill = as.factor(recode_target_value_binary))) +\n",
    "            geom_histogram(bins = 50, alpha = 0.6) +\n",
    "            facet_grid(~ data_type,\n",
    "                       scales = \"free_y\") +\n",
    "            scale_fill_manual(name = \"Binary\\nRecoding\",\n",
    "                              labels = c(\"0\" = \"0\", \"1\" = \"1\"),\n",
    "                              values = c(\"0\" = \"#AEA367\", \"1\" = \"#403019\")) +\n",
    "            xlab(target) +\n",
    "            ylab(\"Count\") +\n",
    "            theme_bw() +\n",
    "            ggtitle(target) +\n",
    "            theme(axis.text = element_text(size = 8),\n",
    "                  axis.title = element_text(size = 9),\n",
    "                  strip.text = element_text(size = 7),\n",
    "                  legend.title = element_text(size = 8),\n",
    "                  title = element_text(size = 12),\n",
    "                  strip.background = element_rect(colour = \"black\",\n",
    "                                                  fill = \"#fdfff4\"))\n",
    "\n",
    "    output_file <- file.path(\"figures\",\n",
    "                             \"feature_distribution\",\n",
    "                             paste0(target, \"_dist.png\"))\n",
    "    \n",
    "    ggsave(filename = output_file,\n",
    "           plot = target_gg,\n",
    "           width = 5,\n",
    "           height = 3.5,\n",
    "           dpi = 400)\n",
    "    \n",
    "    print(target_gg)\n",
    "}\n",
    "\n",
    "dev.off()"
   ]
  }
 ],
 "metadata": {
  "kernelspec": {
   "display_name": "R [conda env:cell-health] *",
   "language": "R",
   "name": "conda-env-cell-health-r"
  },
  "language_info": {
   "codemirror_mode": "r",
   "file_extension": ".r",
   "mimetype": "text/x-r-source",
   "name": "R",
   "pygments_lexer": "r",
   "version": "3.5.1"
  }
 },
 "nbformat": 4,
 "nbformat_minor": 2
}
