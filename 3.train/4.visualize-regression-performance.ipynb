{
 "cells": [
  {
   "cell_type": "markdown",
   "metadata": {},
   "source": [
    "# Visualize Performance of Cell Health Prediction Models\n",
    "\n",
    "**Gregory Way, 2019**\n",
    "\n",
    "For regression classification problem. "
   ]
  },
  {
   "cell_type": "code",
   "execution_count": 1,
   "metadata": {},
   "outputs": [],
   "source": [
    "suppressPackageStartupMessages(library(dplyr))\n",
    "suppressPackageStartupMessages(library(ggplot2))\n",
    "suppressPackageStartupMessages(library(ggrepel))\n",
    "suppressPackageStartupMessages(library(ggpmisc))"
   ]
  },
  {
   "cell_type": "markdown",
   "metadata": {},
   "source": [
    "## Load Data"
   ]
  },
  {
   "cell_type": "code",
   "execution_count": 2,
   "metadata": {},
   "outputs": [],
   "source": [
    "results_dir <- \"results\"\n",
    "regression_file <- file.path(results_dir, \"full_cell_health_regression_results.tsv.gz\")\n",
    "regression_metrics_df <- readr::read_tsv(regression_file, col_types = readr::cols())\n",
    "\n",
    "coef_file <- file.path(results_dir, \"full_cell_health_coefficients.tsv.gz\")\n",
    "full_coef_df <- readr::read_tsv(coef_file, col_types = readr::cols()) %>%\n",
    "    dplyr::filter(y_transform %in% c(\"raw\", \"zero-one\"))\n",
    "\n",
    "y_file <- file.path(results_dir, \"full_cell_health_y_labels.tsv.gz\")\n",
    "y_df <- readr::read_tsv(y_file, col_types = readr::cols()) %>%\n",
    "    dplyr::filter(y_transform %in% c(\"raw\", \"zero-one\"))"
   ]
  },
  {
   "cell_type": "markdown",
   "metadata": {},
   "source": [
    "## Process y Matrix for Plotting"
   ]
  },
  {
   "cell_type": "code",
   "execution_count": 3,
   "metadata": {},
   "outputs": [
    {
     "name": "stderr",
     "output_type": "stream",
     "text": [
      "Warning message:\n",
      "“`chr_along()` is deprecated as of rlang 0.2.0.\n",
      "\u001b[90mThis warning is displayed once per session.\u001b[39m”"
     ]
    },
    {
     "name": "stdout",
     "output_type": "stream",
     "text": [
      "[1] 99720     9\n"
     ]
    },
    {
     "data": {
      "text/html": [
       "<table>\n",
       "<caption>A tibble: 3 × 9</caption>\n",
       "<thead>\n",
       "\t<tr><th scope=col>Metadata_profile_id</th><th scope=col>recode_target_value_true</th><th scope=col>target</th><th scope=col>data_type</th><th scope=col>shuffle</th><th scope=col>y_transform</th><th scope=col>y_type_true</th><th scope=col>recode_target_value_pred</th><th scope=col>y_type_pred</th></tr>\n",
       "\t<tr><th scope=col>&lt;chr&gt;</th><th scope=col>&lt;dbl&gt;</th><th scope=col>&lt;chr&gt;</th><th scope=col>&lt;chr&gt;</th><th scope=col>&lt;chr&gt;</th><th scope=col>&lt;chr&gt;</th><th scope=col>&lt;chr&gt;</th><th scope=col>&lt;dbl&gt;</th><th scope=col>&lt;chr&gt;</th></tr>\n",
       "</thead>\n",
       "<tbody>\n",
       "\t<tr><td>profile_346</td><td>-0.7839227</td><td>cc_all_high_n_spots_h2ax_mean</td><td>Train</td><td>shuffle_true</td><td>raw</td><td>y_true</td><td>0.4657851</td><td>y_pred</td></tr>\n",
       "\t<tr><td>profile_185</td><td> 4.8193411</td><td>cc_all_high_n_spots_h2ax_mean</td><td>Train</td><td>shuffle_true</td><td>raw</td><td>y_true</td><td>0.4657851</td><td>y_pred</td></tr>\n",
       "\t<tr><td>profile_3  </td><td>-0.1389207</td><td>cc_all_high_n_spots_h2ax_mean</td><td>Train</td><td>shuffle_true</td><td>raw</td><td>y_true</td><td>0.4657851</td><td>y_pred</td></tr>\n",
       "</tbody>\n",
       "</table>\n"
      ],
      "text/latex": [
       "A tibble: 3 × 9\n",
       "\\begin{tabular}{r|lllllllll}\n",
       " Metadata\\_profile\\_id & recode\\_target\\_value\\_true & target & data\\_type & shuffle & y\\_transform & y\\_type\\_true & recode\\_target\\_value\\_pred & y\\_type\\_pred\\\\\n",
       " <chr> & <dbl> & <chr> & <chr> & <chr> & <chr> & <chr> & <dbl> & <chr>\\\\\n",
       "\\hline\n",
       "\t profile\\_346 & -0.7839227 & cc\\_all\\_high\\_n\\_spots\\_h2ax\\_mean & Train & shuffle\\_true & raw & y\\_true & 0.4657851 & y\\_pred\\\\\n",
       "\t profile\\_185 &  4.8193411 & cc\\_all\\_high\\_n\\_spots\\_h2ax\\_mean & Train & shuffle\\_true & raw & y\\_true & 0.4657851 & y\\_pred\\\\\n",
       "\t profile\\_3   & -0.1389207 & cc\\_all\\_high\\_n\\_spots\\_h2ax\\_mean & Train & shuffle\\_true & raw & y\\_true & 0.4657851 & y\\_pred\\\\\n",
       "\\end{tabular}\n"
      ],
      "text/markdown": [
       "\n",
       "A tibble: 3 × 9\n",
       "\n",
       "| Metadata_profile_id &lt;chr&gt; | recode_target_value_true &lt;dbl&gt; | target &lt;chr&gt; | data_type &lt;chr&gt; | shuffle &lt;chr&gt; | y_transform &lt;chr&gt; | y_type_true &lt;chr&gt; | recode_target_value_pred &lt;dbl&gt; | y_type_pred &lt;chr&gt; |\n",
       "|---|---|---|---|---|---|---|---|---|\n",
       "| profile_346 | -0.7839227 | cc_all_high_n_spots_h2ax_mean | Train | shuffle_true | raw | y_true | 0.4657851 | y_pred |\n",
       "| profile_185 |  4.8193411 | cc_all_high_n_spots_h2ax_mean | Train | shuffle_true | raw | y_true | 0.4657851 | y_pred |\n",
       "| profile_3   | -0.1389207 | cc_all_high_n_spots_h2ax_mean | Train | shuffle_true | raw | y_true | 0.4657851 | y_pred |\n",
       "\n"
      ],
      "text/plain": [
       "  Metadata_profile_id recode_target_value_true target                       \n",
       "1 profile_346         -0.7839227               cc_all_high_n_spots_h2ax_mean\n",
       "2 profile_185          4.8193411               cc_all_high_n_spots_h2ax_mean\n",
       "3 profile_3           -0.1389207               cc_all_high_n_spots_h2ax_mean\n",
       "  data_type shuffle      y_transform y_type_true recode_target_value_pred\n",
       "1 Train     shuffle_true raw         y_true      0.4657851               \n",
       "2 Train     shuffle_true raw         y_true      0.4657851               \n",
       "3 Train     shuffle_true raw         y_true      0.4657851               \n",
       "  y_type_pred\n",
       "1 y_pred     \n",
       "2 y_pred     \n",
       "3 y_pred     "
      ]
     },
     "metadata": {},
     "output_type": "display_data"
    }
   ],
   "source": [
    "# Combine data for downstream processing\n",
    "y_binary_subset_true_df <- y_df %>%\n",
    "    dplyr::filter(y_transform %in% c(\"raw\", \"zero-one\"),\n",
    "                  y_type == \"y_true\")\n",
    "\n",
    "y_binary_subset_pred_df <- y_df %>%\n",
    "    dplyr::filter(y_transform %in% c(\"raw\", \"zero-one\"),\n",
    "                  y_type == \"y_pred\")\n",
    "\n",
    "# Process data for plotting\n",
    "y_plot_df <- y_binary_subset_true_df %>%\n",
    "    dplyr::inner_join(y_binary_subset_pred_df,\n",
    "                      by = c(\"Metadata_profile_id\",\n",
    "                             \"target\",\n",
    "                             \"data_type\",\n",
    "                             \"shuffle\",\n",
    "                             \"y_transform\"),\n",
    "                      suffix = c(\"_true\", \"_pred\"))\n",
    "\n",
    "y_plot_df$data_type <- dplyr::recode(y_plot_df$data_type,\n",
    "                                     \"train\" = \"Train\",\n",
    "                                     \"test\" = \"Test\")\n",
    "\n",
    "print(dim(y_plot_df))\n",
    "head(y_plot_df, 3)"
   ]
  },
  {
   "cell_type": "markdown",
   "metadata": {},
   "source": [
    "## Process Regression Metrics for Plotting"
   ]
  },
  {
   "cell_type": "code",
   "execution_count": 4,
   "metadata": {},
   "outputs": [
    {
     "name": "stdout",
     "output_type": "stream",
     "text": [
      "[1] 1120    6\n"
     ]
    },
    {
     "data": {
      "text/html": [
       "<table>\n",
       "<caption>A tibble: 3 × 6</caption>\n",
       "<thead>\n",
       "\t<tr><th scope=col>mse</th><th scope=col>metric</th><th scope=col>target</th><th scope=col>data_type</th><th scope=col>shuffle</th><th scope=col>y_transform</th></tr>\n",
       "\t<tr><th scope=col>&lt;dbl&gt;</th><th scope=col>&lt;chr&gt;</th><th scope=col>&lt;chr&gt;</th><th scope=col>&lt;chr&gt;</th><th scope=col>&lt;chr&gt;</th><th scope=col>&lt;chr&gt;</th></tr>\n",
       "</thead>\n",
       "<tbody>\n",
       "\t<tr><td>1.85</td><td>mse  </td><td>cc_all_high_n_spots_h2ax_mean</td><td>Train</td><td>shuffle_true</td><td>raw</td></tr>\n",
       "\t<tr><td>0.92</td><td>mse  </td><td>cc_all_high_n_spots_h2ax_mean</td><td>Test </td><td>shuffle_true</td><td>raw</td></tr>\n",
       "\t<tr><td>0.00</td><td>r_two</td><td>cc_all_high_n_spots_h2ax_mean</td><td>Train</td><td>shuffle_true</td><td>raw</td></tr>\n",
       "</tbody>\n",
       "</table>\n"
      ],
      "text/latex": [
       "A tibble: 3 × 6\n",
       "\\begin{tabular}{r|llllll}\n",
       " mse & metric & target & data\\_type & shuffle & y\\_transform\\\\\n",
       " <dbl> & <chr> & <chr> & <chr> & <chr> & <chr>\\\\\n",
       "\\hline\n",
       "\t 1.85 & mse   & cc\\_all\\_high\\_n\\_spots\\_h2ax\\_mean & Train & shuffle\\_true & raw\\\\\n",
       "\t 0.92 & mse   & cc\\_all\\_high\\_n\\_spots\\_h2ax\\_mean & Test  & shuffle\\_true & raw\\\\\n",
       "\t 0.00 & r\\_two & cc\\_all\\_high\\_n\\_spots\\_h2ax\\_mean & Train & shuffle\\_true & raw\\\\\n",
       "\\end{tabular}\n"
      ],
      "text/markdown": [
       "\n",
       "A tibble: 3 × 6\n",
       "\n",
       "| mse &lt;dbl&gt; | metric &lt;chr&gt; | target &lt;chr&gt; | data_type &lt;chr&gt; | shuffle &lt;chr&gt; | y_transform &lt;chr&gt; |\n",
       "|---|---|---|---|---|---|\n",
       "| 1.85 | mse   | cc_all_high_n_spots_h2ax_mean | Train | shuffle_true | raw |\n",
       "| 0.92 | mse   | cc_all_high_n_spots_h2ax_mean | Test  | shuffle_true | raw |\n",
       "| 0.00 | r_two | cc_all_high_n_spots_h2ax_mean | Train | shuffle_true | raw |\n",
       "\n"
      ],
      "text/plain": [
       "  mse  metric target                        data_type shuffle      y_transform\n",
       "1 1.85 mse    cc_all_high_n_spots_h2ax_mean Train     shuffle_true raw        \n",
       "2 0.92 mse    cc_all_high_n_spots_h2ax_mean Test      shuffle_true raw        \n",
       "3 0.00 r_two  cc_all_high_n_spots_h2ax_mean Train     shuffle_true raw        "
      ]
     },
     "metadata": {},
     "output_type": "display_data"
    }
   ],
   "source": [
    "regression_metrics_df$data_fit <- dplyr::recode(regression_metrics_df$data_fit,\n",
    "                                                \"train\" = \"Train\",\n",
    "                                                \"test\" = \"Test\")\n",
    "\n",
    "regression_metrics_df <- regression_metrics_df %>%\n",
    "    dplyr::rename(data_type = data_fit)\n",
    "\n",
    "regression_metrics_df$mse <- round(regression_metrics_df$mse, 2)\n",
    "\n",
    "print(dim(regression_metrics_df))\n",
    "head(regression_metrics_df, 3)"
   ]
  },
  {
   "cell_type": "markdown",
   "metadata": {},
   "source": [
    "## Plot performance metrics for each target variable"
   ]
  },
  {
   "cell_type": "code",
   "execution_count": 5,
   "metadata": {},
   "outputs": [
    {
     "name": "stderr",
     "output_type": "stream",
     "text": [
      "Warning message:\n",
      "“The `printer` argument is deprecated as of rlang 0.3.0.\n",
      "\u001b[90mThis warning is displayed once per session.\u001b[39m”"
     ]
    },
    {
     "data": {
      "text/html": [
       "<strong>pdf:</strong> 2"
      ],
      "text/latex": [
       "\\textbf{pdf:} 2"
      ],
      "text/markdown": [
       "**pdf:** 2"
      ],
      "text/plain": [
       "pdf \n",
       "  2 "
      ]
     },
     "metadata": {},
     "output_type": "display_data"
    }
   ],
   "source": [
    "label_thresh_value = 0.90\n",
    "\n",
    "pdf_file <- file.path(\"figures\", \"all_regression_performance_metrics.pdf\")\n",
    "pdf(pdf_file, width = 6, height = 8, onefile = TRUE)\n",
    "\n",
    "for (target in unique(y_plot_df$target)) {\n",
    "    # Subset all dataframes\n",
    "    y_subset_df <- y_plot_df %>% dplyr::filter(target == !!target)\n",
    "    coef_subset_df <- full_coef_df %>% dplyr::filter(target == !!target)\n",
    "    metrics_subset_df <- regression_metrics_df %>% dplyr::filter(target == !!target)\n",
    "    \n",
    "    for (y_transform in unique(y_subset_df$y_transform)) {\n",
    "        y_subset_transform_df <- y_subset_df %>%\n",
    "            dplyr::filter(y_transform == !!y_transform)\n",
    "       \n",
    "        coef_subset_transform_df <- coef_subset_df %>%\n",
    "            dplyr::filter(y_transform == !!y_transform,\n",
    "                          shuffle == \"shuffle_false\") %>%\n",
    "            dplyr::mutate(weight_rank = row_number(weight))\n",
    "        \n",
    "        metrics_subset_transform_df <- metrics_subset_df %>%\n",
    "            dplyr::filter(y_transform == !!y_transform)\n",
    "        \n",
    "        pred_scatter_gg <-\n",
    "           ggplot(y_subset_transform_df,\n",
    "                  aes(x = recode_target_value_true, y = recode_target_value_pred)) +\n",
    "                geom_point(size = 0.5, alpha = 0.7) +\n",
    "                facet_grid(data_type~shuffle) +\n",
    "                theme_bw() +\n",
    "                xlab(\"True Values\") +\n",
    "                ylab(\"Predicted Values\") +\n",
    "                geom_smooth(method='lm', formula=y~x) +\n",
    "                theme(strip.text = element_text(size = 10),\n",
    "                      strip.background = element_rect(colour = \"black\",\n",
    "                                                      fill = \"#fdfff4\"))\n",
    "        \n",
    "        # Setup labeling thresholds\n",
    "        non_zero_coef <- coef_subset_transform_df$abs_weight[coef_subset_transform_df$abs_weight > 0]\n",
    "        label_thresh <- quantile(non_zero_coef, label_thresh_value)\n",
    "        label_logic <- coef_subset_transform_df$abs_weight > label_thresh\n",
    "\n",
    "        coef_gg <-\n",
    "            ggplot(coef_subset_transform_df,\n",
    "                   aes(x = weight_rank,\n",
    "                       y = weight)) +\n",
    "                geom_point(size = 0.2,\n",
    "                           alpha = 0.6) +\n",
    "                xlab(\"Weight Rank\") +\n",
    "                ylab(\"Weight\") +\n",
    "                geom_text_repel(data = subset(coef_subset_transform_df, label_logic),\n",
    "                                arrow = arrow(length = unit(0.01, \"npc\")),\n",
    "                                box.padding = 0.4,\n",
    "                                point.padding = 0.1,\n",
    "                                segment.size = 0.5,\n",
    "                                segment.alpha = 0.6,\n",
    "                                size = 1.5,\n",
    "                                fontface = \"italic\",\n",
    "                                aes(label = feature,\n",
    "                                    x = weight_rank,\n",
    "                                    y = weight)) +\n",
    "                theme_bw()\n",
    "        \n",
    "         # Build table for plotting performance metrics\n",
    "        mse_df <- metrics_subset_transform_df %>%\n",
    "            dplyr::filter(metric == \"mse\") %>%\n",
    "            dplyr::select(-metric)\n",
    "        r2_df <- metrics_subset_transform_df %>%\n",
    "            dplyr::filter(metric == \"r_two\") %>%\n",
    "            dplyr::rename(r2 = mse) %>%\n",
    "            dplyr::select(-metric)\n",
    "\n",
    "        metric_table_df <- r2_df %>%\n",
    "            dplyr::inner_join(mse_df, by=c(\"target\", \"data_type\", \"shuffle\", \"y_transform\")) %>%\n",
    "            dplyr::select(data_type, shuffle, y_transform, r2, mse) %>%\n",
    "            dplyr::rename(fit = data_type, transform = y_transform) %>%\n",
    "            dplyr::arrange(shuffle)\n",
    "\n",
    "        metric_table_df$shuffle <- dplyr::recode(metric_table_df$shuffle,\n",
    "                                              shuffle_true = \"True\",\n",
    "                                              shuffle_false = \"False\")\n",
    "\n",
    "        # Plot all performance metrics together with cowplot\n",
    "        table_theme <- gridExtra::ttheme_default(\n",
    "            core = list(fg_params=list(cex = 0.7)),\n",
    "            colhead = list(fg_params=list(cex = 0.8))\n",
    "        )\n",
    "\n",
    "        table_gg <- gridExtra::tableGrob(metric_table_df,\n",
    "                                         theme = table_theme,\n",
    "                                         rows = NULL)\n",
    "        \n",
    "        bottom_row_gg <- cowplot::plot_grid(\n",
    "            table_gg,\n",
    "            coef_gg,\n",
    "            rel_widths = c(0.8, 1),\n",
    "            nrow = 1\n",
    "        )\n",
    "        regression_perf_gg <- cowplot::plot_grid(\n",
    "            pred_scatter_gg,\n",
    "            bottom_row_gg,\n",
    "            rel_heights = c(1, 0.8),\n",
    "            nrow = 2\n",
    "        )\n",
    "        \n",
    "        target_title <- cowplot::ggdraw() + \n",
    "          cowplot::draw_label(\n",
    "            paste(\"Performance:\", target, \"\\nTransform:\", y_transform),\n",
    "            fontface = 'bold',\n",
    "            x = 0,\n",
    "            hjust = 0\n",
    "          ) +\n",
    "          theme(\n",
    "            plot.margin = margin(0, 0, 0, 7)\n",
    "          )\n",
    "\n",
    "        regression_perf_gg <- cowplot::plot_grid(\n",
    "            target_title,\n",
    "            regression_perf_gg,\n",
    "            ncol = 1,\n",
    "            rel_heights = c(0.1, 1)\n",
    "        )\n",
    "        \n",
    "        # Save figure\n",
    "        cowplot_file <- file.path(\"figures\",\n",
    "                                  \"target_performance\",\n",
    "                                  \"regression\",\n",
    "                                  paste0(target, \"_\", y_transform, \"_performance.png\"))\n",
    "\n",
    "        cowplot::save_plot(filename = cowplot_file,\n",
    "                           plot = regression_perf_gg,\n",
    "                           base_height = 6,\n",
    "                           base_width = 8)\n",
    "\n",
    "        print(regression_perf_gg)\n",
    "    }\n",
    "}\n",
    "\n",
    "dev.off()"
   ]
  }
 ],
 "metadata": {
  "kernelspec": {
   "display_name": "R [conda env:cell-health] *",
   "language": "R",
   "name": "conda-env-cell-health-r"
  },
  "language_info": {
   "codemirror_mode": "r",
   "file_extension": ".r",
   "mimetype": "text/x-r-source",
   "name": "R",
   "pygments_lexer": "r",
   "version": "3.5.1"
  }
 },
 "nbformat": 4,
 "nbformat_minor": 2
}
