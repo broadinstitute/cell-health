{
 "cells": [
  {
   "cell_type": "markdown",
   "metadata": {},
   "source": [
    "# Observe Viability Predictions against DepMap Estimates"
   ]
  },
  {
   "cell_type": "code",
   "execution_count": 1,
   "metadata": {},
   "outputs": [],
   "source": [
    "import os\n",
    "import pathlib\n",
    "import pandas as pd\n",
    "from scipy import stats\n",
    "\n",
    "import plotnine as gg"
   ]
  },
  {
   "cell_type": "code",
   "execution_count": 2,
   "metadata": {},
   "outputs": [],
   "source": [
    "%matplotlib inline"
   ]
  },
  {
   "cell_type": "code",
   "execution_count": 3,
   "metadata": {},
   "outputs": [],
   "source": [
    "cell_line_id = \"A549_LUNG\"\n",
    "cell_health_model = \"cell_health_modz_target_cc_cc_n_objects\""
   ]
  },
  {
   "cell_type": "markdown",
   "metadata": {},
   "source": [
    "## Load Data\n",
    "\n",
    "### Cancer Dependency Map Data"
   ]
  },
  {
   "cell_type": "code",
   "execution_count": 4,
   "metadata": {},
   "outputs": [
    {
     "name": "stdout",
     "output_type": "stream",
     "text": [
      "(17694, 14)\n"
     ]
    },
    {
     "data": {
      "text/html": [
       "<div>\n",
       "<style scoped>\n",
       "    .dataframe tbody tr th:only-of-type {\n",
       "        vertical-align: middle;\n",
       "    }\n",
       "\n",
       "    .dataframe tbody tr th {\n",
       "        vertical-align: top;\n",
       "    }\n",
       "\n",
       "    .dataframe thead th {\n",
       "        text-align: right;\n",
       "    }\n",
       "</style>\n",
       "<table border=\"1\" class=\"dataframe\">\n",
       "  <thead>\n",
       "    <tr style=\"text-align: right;\">\n",
       "      <th></th>\n",
       "      <th>treatment_id</th>\n",
       "      <th>depmap_viability</th>\n",
       "      <th>broad_id</th>\n",
       "      <th>column_name</th>\n",
       "      <th>disease.area</th>\n",
       "      <th>dose</th>\n",
       "      <th>indication</th>\n",
       "      <th>moa</th>\n",
       "      <th>name</th>\n",
       "      <th>phase</th>\n",
       "      <th>screen_id</th>\n",
       "      <th>smiles</th>\n",
       "      <th>target</th>\n",
       "      <th>dose_recode</th>\n",
       "    </tr>\n",
       "  </thead>\n",
       "  <tbody>\n",
       "    <tr>\n",
       "      <th>0</th>\n",
       "      <td>BRD-A00077618-236-07-6::2.5::HTS</td>\n",
       "      <td>-0.253541</td>\n",
       "      <td>BRD-A00077618-236-07-6</td>\n",
       "      <td>BRD-A00077618-236-07-6::2.5::HTS</td>\n",
       "      <td>NaN</td>\n",
       "      <td>2.5</td>\n",
       "      <td>NaN</td>\n",
       "      <td>PKA activator</td>\n",
       "      <td>8-bromo-cGMP</td>\n",
       "      <td>Preclinical</td>\n",
       "      <td>HTS</td>\n",
       "      <td>Nc1nc(O)c2nc(Br)n([C@@H]3O[C@@H]4COP(O)(=O)O[C...</td>\n",
       "      <td>PRKG1</td>\n",
       "      <td>5</td>\n",
       "    </tr>\n",
       "    <tr>\n",
       "      <th>1</th>\n",
       "      <td>BRD-A00100033-001-08-9::2.5::HTS</td>\n",
       "      <td>-0.506751</td>\n",
       "      <td>BRD-A00100033-001-08-9</td>\n",
       "      <td>BRD-A00100033-001-08-9::2.5::HTS</td>\n",
       "      <td>infectious disease</td>\n",
       "      <td>2.5</td>\n",
       "      <td>Chagas disease, African trypanosomiasis</td>\n",
       "      <td>DNA inhibitor</td>\n",
       "      <td>nifurtimox</td>\n",
       "      <td>Launched</td>\n",
       "      <td>HTS</td>\n",
       "      <td>CC1CS(=O)(=O)CCN1N=Cc1ccc(o1)[N+]([O-])=O</td>\n",
       "      <td>NaN</td>\n",
       "      <td>5</td>\n",
       "    </tr>\n",
       "    <tr>\n",
       "      <th>2</th>\n",
       "      <td>BRD-A00147595-001-01-5::2.5::HTS</td>\n",
       "      <td>-0.477851</td>\n",
       "      <td>BRD-A00147595-001-01-5</td>\n",
       "      <td>BRD-A00147595-001-01-5::2.5::HTS</td>\n",
       "      <td>NaN</td>\n",
       "      <td>2.5</td>\n",
       "      <td>NaN</td>\n",
       "      <td>insulin sensitizer, PPAR receptor partial agonist</td>\n",
       "      <td>balaglitazone</td>\n",
       "      <td>Phase 3</td>\n",
       "      <td>HTS</td>\n",
       "      <td>Cn1c(COc2ccc(CC3SC(=O)NC3=O)cc2)nc2ccccc2c1=O</td>\n",
       "      <td>PPARG</td>\n",
       "      <td>5</td>\n",
       "    </tr>\n",
       "  </tbody>\n",
       "</table>\n",
       "</div>"
      ],
      "text/plain": [
       "                       treatment_id  depmap_viability                broad_id  \\\n",
       "0  BRD-A00077618-236-07-6::2.5::HTS         -0.253541  BRD-A00077618-236-07-6   \n",
       "1  BRD-A00100033-001-08-9::2.5::HTS         -0.506751  BRD-A00100033-001-08-9   \n",
       "2  BRD-A00147595-001-01-5::2.5::HTS         -0.477851  BRD-A00147595-001-01-5   \n",
       "\n",
       "                        column_name        disease.area  dose  \\\n",
       "0  BRD-A00077618-236-07-6::2.5::HTS                 NaN   2.5   \n",
       "1  BRD-A00100033-001-08-9::2.5::HTS  infectious disease   2.5   \n",
       "2  BRD-A00147595-001-01-5::2.5::HTS                 NaN   2.5   \n",
       "\n",
       "                                indication  \\\n",
       "0                                      NaN   \n",
       "1  Chagas disease, African trypanosomiasis   \n",
       "2                                      NaN   \n",
       "\n",
       "                                                 moa           name  \\\n",
       "0                                      PKA activator   8-bromo-cGMP   \n",
       "1                                      DNA inhibitor     nifurtimox   \n",
       "2  insulin sensitizer, PPAR receptor partial agonist  balaglitazone   \n",
       "\n",
       "         phase screen_id                                             smiles  \\\n",
       "0  Preclinical       HTS  Nc1nc(O)c2nc(Br)n([C@@H]3O[C@@H]4COP(O)(=O)O[C...   \n",
       "1     Launched       HTS          CC1CS(=O)(=O)CCN1N=Cc1ccc(o1)[N+]([O-])=O   \n",
       "2      Phase 3       HTS      Cn1c(COc2ccc(CC3SC(=O)NC3=O)cc2)nc2ccccc2c1=O   \n",
       "\n",
       "  target  dose_recode  \n",
       "0  PRKG1            5  \n",
       "1    NaN            5  \n",
       "2  PPARG            5  "
      ]
     },
     "execution_count": 4,
     "metadata": {},
     "output_type": "execute_result"
    }
   ],
   "source": [
    "depmap_file = os.path.join(\n",
    "    \"data\",\n",
    "    \"processed\",\n",
    "    \"{}_viability_estimates.tsv\".format(cell_line_id)\n",
    ")\n",
    "\n",
    "depmap_df = (\n",
    "    pd.read_csv(depmap_file, sep='\\t')\n",
    "    .rename(\n",
    "        {\n",
    "            cell_line_id: \"depmap_viability\"\n",
    "        },\n",
    "        axis=\"columns\"\n",
    "    )\n",
    ")\n",
    "\n",
    "print(depmap_df.shape)\n",
    "depmap_df.head(3)"
   ]
  },
  {
   "cell_type": "markdown",
   "metadata": {},
   "source": [
    "### Cell Health Predictions on Drug Repurposing Hub"
   ]
  },
  {
   "cell_type": "code",
   "execution_count": 5,
   "metadata": {},
   "outputs": [],
   "source": [
    "focus_columns = [\n",
    "    \"Metadata_Plate_Map_Name\",\n",
    "    \"Metadata_broad_sample\",\n",
    "    \"Metadata_dose_recode\",\n",
    "    \"Metadata_mmoles_per_liter\",\n",
    "    \"Metadata_pert_well\",\n",
    "    cell_health_model\n",
    "]"
   ]
  },
  {
   "cell_type": "code",
   "execution_count": 6,
   "metadata": {},
   "outputs": [
    {
     "name": "stdout",
     "output_type": "stream",
     "text": [
      "(10368, 75)\n"
     ]
    },
    {
     "data": {
      "text/html": [
       "<div>\n",
       "<style scoped>\n",
       "    .dataframe tbody tr th:only-of-type {\n",
       "        vertical-align: middle;\n",
       "    }\n",
       "\n",
       "    .dataframe tbody tr th {\n",
       "        vertical-align: top;\n",
       "    }\n",
       "\n",
       "    .dataframe thead th {\n",
       "        text-align: right;\n",
       "    }\n",
       "</style>\n",
       "<table border=\"1\" class=\"dataframe\">\n",
       "  <thead>\n",
       "    <tr style=\"text-align: right;\">\n",
       "      <th></th>\n",
       "      <th>Metadata_Plate_Map_Name</th>\n",
       "      <th>Metadata_broad_sample</th>\n",
       "      <th>Metadata_pert_well</th>\n",
       "      <th>Metadata_mmoles_per_liter</th>\n",
       "      <th>Metadata_dose_recode</th>\n",
       "      <th>cell_health_modz_target_cc_late_mitosis_n_spots_h2ax_per_nucleus_area_mean</th>\n",
       "      <th>cell_health_modz_target_cc_all_nucleus_roundness_mean</th>\n",
       "      <th>cell_health_modz_target_cc_polyploid_n_objects</th>\n",
       "      <th>cell_health_modz_target_cc_g1_n_objects</th>\n",
       "      <th>cell_health_modz_target_cc_mitosis_n_objects</th>\n",
       "      <th>...</th>\n",
       "      <th>cell_health_modz_target_cc_s_intensity_nucleus_area_mean</th>\n",
       "      <th>cell_health_modz_target_cc_g2_high_h2ax</th>\n",
       "      <th>cell_health_modz_target_cc_late_mitosis_n_spots_h2ax_mean</th>\n",
       "      <th>cell_health_modz_target_cc_cc_high_h2ax</th>\n",
       "      <th>cell_health_modz_target_vb_percent_dead_only</th>\n",
       "      <th>cell_health_modz_target_cc_s_high_h2ax</th>\n",
       "      <th>cell_health_modz_target_cc_cc_n_spots_h2ax_per_nucleus_area_mean</th>\n",
       "      <th>cell_health_modz_target_cc_s_n_spots_h2ax_per_nucleus_area_mean</th>\n",
       "      <th>cell_health_modz_target_cc_g1_plus_g2_count</th>\n",
       "      <th>cell_health_modz_target_vb_live_cell_width_length</th>\n",
       "    </tr>\n",
       "  </thead>\n",
       "  <tbody>\n",
       "    <tr>\n",
       "      <th>0</th>\n",
       "      <td>C-7161-01-LM6-001</td>\n",
       "      <td>BRD-A25234499-001-18-3</td>\n",
       "      <td>B13</td>\n",
       "      <td>10.0000</td>\n",
       "      <td>6</td>\n",
       "      <td>0.121840</td>\n",
       "      <td>0.287876</td>\n",
       "      <td>0.332128</td>\n",
       "      <td>0.031668</td>\n",
       "      <td>0.293513</td>\n",
       "      <td>...</td>\n",
       "      <td>-0.041590</td>\n",
       "      <td>0.275196</td>\n",
       "      <td>0.231984</td>\n",
       "      <td>0.034737</td>\n",
       "      <td>0.226777</td>\n",
       "      <td>0.237375</td>\n",
       "      <td>0.105485</td>\n",
       "      <td>0.153677</td>\n",
       "      <td>-0.530986</td>\n",
       "      <td>0.144455</td>\n",
       "    </tr>\n",
       "    <tr>\n",
       "      <th>1</th>\n",
       "      <td>C-7161-01-LM6-001</td>\n",
       "      <td>BRD-A25234499-001-18-3</td>\n",
       "      <td>B14</td>\n",
       "      <td>3.3333</td>\n",
       "      <td>5</td>\n",
       "      <td>0.135517</td>\n",
       "      <td>-0.016983</td>\n",
       "      <td>0.175805</td>\n",
       "      <td>0.045467</td>\n",
       "      <td>0.271201</td>\n",
       "      <td>...</td>\n",
       "      <td>-0.615482</td>\n",
       "      <td>0.516950</td>\n",
       "      <td>0.242159</td>\n",
       "      <td>0.012577</td>\n",
       "      <td>0.632890</td>\n",
       "      <td>0.399858</td>\n",
       "      <td>0.022915</td>\n",
       "      <td>0.202797</td>\n",
       "      <td>-0.159769</td>\n",
       "      <td>-0.294545</td>\n",
       "    </tr>\n",
       "    <tr>\n",
       "      <th>2</th>\n",
       "      <td>C-7161-01-LM6-001</td>\n",
       "      <td>BRD-A25234499-001-18-3</td>\n",
       "      <td>B15</td>\n",
       "      <td>1.1111</td>\n",
       "      <td>4</td>\n",
       "      <td>0.181414</td>\n",
       "      <td>0.029788</td>\n",
       "      <td>0.205290</td>\n",
       "      <td>0.009674</td>\n",
       "      <td>0.302538</td>\n",
       "      <td>...</td>\n",
       "      <td>-0.577316</td>\n",
       "      <td>0.401250</td>\n",
       "      <td>0.268255</td>\n",
       "      <td>0.080886</td>\n",
       "      <td>0.207432</td>\n",
       "      <td>0.337209</td>\n",
       "      <td>0.180617</td>\n",
       "      <td>0.285974</td>\n",
       "      <td>-0.254186</td>\n",
       "      <td>-0.048311</td>\n",
       "    </tr>\n",
       "  </tbody>\n",
       "</table>\n",
       "<p>3 rows × 75 columns</p>\n",
       "</div>"
      ],
      "text/plain": [
       "  Metadata_Plate_Map_Name   Metadata_broad_sample Metadata_pert_well  \\\n",
       "0       C-7161-01-LM6-001  BRD-A25234499-001-18-3                B13   \n",
       "1       C-7161-01-LM6-001  BRD-A25234499-001-18-3                B14   \n",
       "2       C-7161-01-LM6-001  BRD-A25234499-001-18-3                B15   \n",
       "\n",
       "   Metadata_mmoles_per_liter  Metadata_dose_recode  \\\n",
       "0                    10.0000                     6   \n",
       "1                     3.3333                     5   \n",
       "2                     1.1111                     4   \n",
       "\n",
       "   cell_health_modz_target_cc_late_mitosis_n_spots_h2ax_per_nucleus_area_mean  \\\n",
       "0                                           0.121840                            \n",
       "1                                           0.135517                            \n",
       "2                                           0.181414                            \n",
       "\n",
       "   cell_health_modz_target_cc_all_nucleus_roundness_mean  \\\n",
       "0                                           0.287876       \n",
       "1                                          -0.016983       \n",
       "2                                           0.029788       \n",
       "\n",
       "   cell_health_modz_target_cc_polyploid_n_objects  \\\n",
       "0                                        0.332128   \n",
       "1                                        0.175805   \n",
       "2                                        0.205290   \n",
       "\n",
       "   cell_health_modz_target_cc_g1_n_objects  \\\n",
       "0                                 0.031668   \n",
       "1                                 0.045467   \n",
       "2                                 0.009674   \n",
       "\n",
       "   cell_health_modz_target_cc_mitosis_n_objects  ...  \\\n",
       "0                                      0.293513  ...   \n",
       "1                                      0.271201  ...   \n",
       "2                                      0.302538  ...   \n",
       "\n",
       "   cell_health_modz_target_cc_s_intensity_nucleus_area_mean  \\\n",
       "0                                          -0.041590          \n",
       "1                                          -0.615482          \n",
       "2                                          -0.577316          \n",
       "\n",
       "   cell_health_modz_target_cc_g2_high_h2ax  \\\n",
       "0                                 0.275196   \n",
       "1                                 0.516950   \n",
       "2                                 0.401250   \n",
       "\n",
       "   cell_health_modz_target_cc_late_mitosis_n_spots_h2ax_mean  \\\n",
       "0                                           0.231984           \n",
       "1                                           0.242159           \n",
       "2                                           0.268255           \n",
       "\n",
       "   cell_health_modz_target_cc_cc_high_h2ax  \\\n",
       "0                                 0.034737   \n",
       "1                                 0.012577   \n",
       "2                                 0.080886   \n",
       "\n",
       "   cell_health_modz_target_vb_percent_dead_only  \\\n",
       "0                                      0.226777   \n",
       "1                                      0.632890   \n",
       "2                                      0.207432   \n",
       "\n",
       "   cell_health_modz_target_cc_s_high_h2ax  \\\n",
       "0                                0.237375   \n",
       "1                                0.399858   \n",
       "2                                0.337209   \n",
       "\n",
       "   cell_health_modz_target_cc_cc_n_spots_h2ax_per_nucleus_area_mean  \\\n",
       "0                                           0.105485                  \n",
       "1                                           0.022915                  \n",
       "2                                           0.180617                  \n",
       "\n",
       "   cell_health_modz_target_cc_s_n_spots_h2ax_per_nucleus_area_mean  \\\n",
       "0                                           0.153677                 \n",
       "1                                           0.202797                 \n",
       "2                                           0.285974                 \n",
       "\n",
       "   cell_health_modz_target_cc_g1_plus_g2_count  \\\n",
       "0                                    -0.530986   \n",
       "1                                    -0.159769   \n",
       "2                                    -0.254186   \n",
       "\n",
       "   cell_health_modz_target_vb_live_cell_width_length  \n",
       "0                                           0.144455  \n",
       "1                                          -0.294545  \n",
       "2                                          -0.048311  \n",
       "\n",
       "[3 rows x 75 columns]"
      ]
     },
     "execution_count": 6,
     "metadata": {},
     "output_type": "execute_result"
    }
   ],
   "source": [
    "cell_health_file = os.path.join(\n",
    "    \"..\",\n",
    "    \"4.apply\",\n",
    "    \"data\",\n",
    "    \"repurposing_transformed_real_models_modz.tsv.gz\"\n",
    ")\n",
    "\n",
    "cell_health_df = (\n",
    "    pd.read_csv(cell_health_file, sep='\\t')\n",
    "    .rename(\n",
    "        {\n",
    "            cell_health_model: \"cell_health_viability\"\n",
    "        },\n",
    "        axis=\"columns\"\n",
    "    )\n",
    ")\n",
    "\n",
    "print(cell_health_df.shape)\n",
    "cell_health_df.head(3)"
   ]
  },
  {
   "cell_type": "markdown",
   "metadata": {},
   "source": [
    "## Observe how different dose recodings are"
   ]
  },
  {
   "cell_type": "code",
   "execution_count": 7,
   "metadata": {},
   "outputs": [
    {
     "data": {
      "text/plain": [
       "<matplotlib.axes._subplots.AxesSubplot at 0x1272eed30>"
      ]
     },
     "execution_count": 7,
     "metadata": {},
     "output_type": "execute_result"
    },
    {
     "data": {
      "image/png": "[encoded data removed]",
      "text/plain": [
       "<Figure size 432x288 with 1 Axes>"
      ]
     },
     "metadata": {
      "needs_background": "light"
     },
     "output_type": "display_data"
    }
   ],
   "source": [
    "depmap_df.plot(x=\"dose\", y=\"dose_recode\", kind=\"scatter\")"
   ]
  },
  {
   "cell_type": "code",
   "execution_count": 8,
   "metadata": {},
   "outputs": [
    {
     "data": {
      "text/plain": [
       "<matplotlib.axes._subplots.AxesSubplot at 0x125b644e0>"
      ]
     },
     "execution_count": 8,
     "metadata": {},
     "output_type": "execute_result"
    },
    {
     "data": {
      "image/png": "[encoded data removed]",
      "text/plain": [
       "<Figure size 432x288 with 1 Axes>"
      ]
     },
     "metadata": {
      "needs_background": "light"
     },
     "output_type": "display_data"
    }
   ],
   "source": [
    "cell_health_df.plot(x=\"Metadata_mmoles_per_liter\", y=\"Metadata_dose_recode\", kind=\"scatter\")"
   ]
  },
  {
   "cell_type": "markdown",
   "metadata": {},
   "source": [
    "## Merge Together"
   ]
  },
  {
   "cell_type": "code",
   "execution_count": 9,
   "metadata": {},
   "outputs": [
    {
     "name": "stdout",
     "output_type": "stream",
     "text": [
      "(5977, 89)\n"
     ]
    },
    {
     "data": {
      "text/html": [
       "<div>\n",
       "<style scoped>\n",
       "    .dataframe tbody tr th:only-of-type {\n",
       "        vertical-align: middle;\n",
       "    }\n",
       "\n",
       "    .dataframe tbody tr th {\n",
       "        vertical-align: top;\n",
       "    }\n",
       "\n",
       "    .dataframe thead th {\n",
       "        text-align: right;\n",
       "    }\n",
       "</style>\n",
       "<table border=\"1\" class=\"dataframe\">\n",
       "  <thead>\n",
       "    <tr style=\"text-align: right;\">\n",
       "      <th></th>\n",
       "      <th>Metadata_Plate_Map_Name</th>\n",
       "      <th>Metadata_broad_sample</th>\n",
       "      <th>Metadata_pert_well</th>\n",
       "      <th>Metadata_mmoles_per_liter</th>\n",
       "      <th>Metadata_dose_recode</th>\n",
       "      <th>cell_health_modz_target_cc_late_mitosis_n_spots_h2ax_per_nucleus_area_mean</th>\n",
       "      <th>cell_health_modz_target_cc_all_nucleus_roundness_mean</th>\n",
       "      <th>cell_health_modz_target_cc_polyploid_n_objects</th>\n",
       "      <th>cell_health_modz_target_cc_g1_n_objects</th>\n",
       "      <th>cell_health_modz_target_cc_mitosis_n_objects</th>\n",
       "      <th>...</th>\n",
       "      <th>disease.area</th>\n",
       "      <th>dose</th>\n",
       "      <th>indication</th>\n",
       "      <th>moa</th>\n",
       "      <th>name</th>\n",
       "      <th>phase</th>\n",
       "      <th>screen_id</th>\n",
       "      <th>smiles</th>\n",
       "      <th>target</th>\n",
       "      <th>dose_recode</th>\n",
       "    </tr>\n",
       "  </thead>\n",
       "  <tbody>\n",
       "    <tr>\n",
       "      <th>0</th>\n",
       "      <td>C-7161-01-LM6-001</td>\n",
       "      <td>BRD-A25234499-001-18-3</td>\n",
       "      <td>B13</td>\n",
       "      <td>10.0000</td>\n",
       "      <td>6</td>\n",
       "      <td>0.121840</td>\n",
       "      <td>0.287876</td>\n",
       "      <td>0.332128</td>\n",
       "      <td>0.031668</td>\n",
       "      <td>0.293513</td>\n",
       "      <td>...</td>\n",
       "      <td>endocrinology, oncology</td>\n",
       "      <td>10.0</td>\n",
       "      <td>Cushing's syndrome, breast cancer</td>\n",
       "      <td>glucocorticoid receptor antagonist</td>\n",
       "      <td>aminoglutethimide</td>\n",
       "      <td>Launched</td>\n",
       "      <td>HTS002</td>\n",
       "      <td>CCC1(CCC(=O)NC1=O)c1ccc(N)cc1, CCC1(CCC(=O)NC1...</td>\n",
       "      <td>CYP11A1, CYP19A1</td>\n",
       "      <td>6</td>\n",
       "    </tr>\n",
       "    <tr>\n",
       "      <th>1</th>\n",
       "      <td>C-7161-01-LM6-001</td>\n",
       "      <td>BRD-A25234499-001-18-3</td>\n",
       "      <td>B14</td>\n",
       "      <td>3.3333</td>\n",
       "      <td>5</td>\n",
       "      <td>0.135517</td>\n",
       "      <td>-0.016983</td>\n",
       "      <td>0.175805</td>\n",
       "      <td>0.045467</td>\n",
       "      <td>0.271201</td>\n",
       "      <td>...</td>\n",
       "      <td>endocrinology, oncology</td>\n",
       "      <td>2.5</td>\n",
       "      <td>Cushing's syndrome, breast cancer</td>\n",
       "      <td>glucocorticoid receptor antagonist</td>\n",
       "      <td>aminoglutethimide</td>\n",
       "      <td>Launched</td>\n",
       "      <td>HTS</td>\n",
       "      <td>CCC1(CCC(=O)NC1=O)c1ccc(N)cc1, CCC1(CCC(=O)NC1...</td>\n",
       "      <td>CYP11A1, CYP19A1</td>\n",
       "      <td>5</td>\n",
       "    </tr>\n",
       "    <tr>\n",
       "      <th>2</th>\n",
       "      <td>C-7161-01-LM6-001</td>\n",
       "      <td>BRD-A25234499-001-18-3</td>\n",
       "      <td>B14</td>\n",
       "      <td>3.3333</td>\n",
       "      <td>5</td>\n",
       "      <td>0.135517</td>\n",
       "      <td>-0.016983</td>\n",
       "      <td>0.175805</td>\n",
       "      <td>0.045467</td>\n",
       "      <td>0.271201</td>\n",
       "      <td>...</td>\n",
       "      <td>endocrinology, oncology</td>\n",
       "      <td>2.5</td>\n",
       "      <td>Cushing's syndrome, breast cancer</td>\n",
       "      <td>glucocorticoid receptor antagonist</td>\n",
       "      <td>aminoglutethimide</td>\n",
       "      <td>Launched</td>\n",
       "      <td>HTS002</td>\n",
       "      <td>CCC1(CCC(=O)NC1=O)c1ccc(N)cc1, CCC1(CCC(=O)NC1...</td>\n",
       "      <td>CYP11A1, CYP19A1</td>\n",
       "      <td>5</td>\n",
       "    </tr>\n",
       "  </tbody>\n",
       "</table>\n",
       "<p>3 rows × 89 columns</p>\n",
       "</div>"
      ],
      "text/plain": [
       "  Metadata_Plate_Map_Name   Metadata_broad_sample Metadata_pert_well  \\\n",
       "0       C-7161-01-LM6-001  BRD-A25234499-001-18-3                B13   \n",
       "1       C-7161-01-LM6-001  BRD-A25234499-001-18-3                B14   \n",
       "2       C-7161-01-LM6-001  BRD-A25234499-001-18-3                B14   \n",
       "\n",
       "   Metadata_mmoles_per_liter  Metadata_dose_recode  \\\n",
       "0                    10.0000                     6   \n",
       "1                     3.3333                     5   \n",
       "2                     3.3333                     5   \n",
       "\n",
       "   cell_health_modz_target_cc_late_mitosis_n_spots_h2ax_per_nucleus_area_mean  \\\n",
       "0                                           0.121840                            \n",
       "1                                           0.135517                            \n",
       "2                                           0.135517                            \n",
       "\n",
       "   cell_health_modz_target_cc_all_nucleus_roundness_mean  \\\n",
       "0                                           0.287876       \n",
       "1                                          -0.016983       \n",
       "2                                          -0.016983       \n",
       "\n",
       "   cell_health_modz_target_cc_polyploid_n_objects  \\\n",
       "0                                        0.332128   \n",
       "1                                        0.175805   \n",
       "2                                        0.175805   \n",
       "\n",
       "   cell_health_modz_target_cc_g1_n_objects  \\\n",
       "0                                 0.031668   \n",
       "1                                 0.045467   \n",
       "2                                 0.045467   \n",
       "\n",
       "   cell_health_modz_target_cc_mitosis_n_objects  ...             disease.area  \\\n",
       "0                                      0.293513  ...  endocrinology, oncology   \n",
       "1                                      0.271201  ...  endocrinology, oncology   \n",
       "2                                      0.271201  ...  endocrinology, oncology   \n",
       "\n",
       "   dose                         indication  \\\n",
       "0  10.0  Cushing's syndrome, breast cancer   \n",
       "1   2.5  Cushing's syndrome, breast cancer   \n",
       "2   2.5  Cushing's syndrome, breast cancer   \n",
       "\n",
       "                                  moa               name     phase  screen_id  \\\n",
       "0  glucocorticoid receptor antagonist  aminoglutethimide  Launched     HTS002   \n",
       "1  glucocorticoid receptor antagonist  aminoglutethimide  Launched        HTS   \n",
       "2  glucocorticoid receptor antagonist  aminoglutethimide  Launched     HTS002   \n",
       "\n",
       "                                              smiles            target  \\\n",
       "0  CCC1(CCC(=O)NC1=O)c1ccc(N)cc1, CCC1(CCC(=O)NC1...  CYP11A1, CYP19A1   \n",
       "1  CCC1(CCC(=O)NC1=O)c1ccc(N)cc1, CCC1(CCC(=O)NC1...  CYP11A1, CYP19A1   \n",
       "2  CCC1(CCC(=O)NC1=O)c1ccc(N)cc1, CCC1(CCC(=O)NC1...  CYP11A1, CYP19A1   \n",
       "\n",
       "   dose_recode  \n",
       "0            6  \n",
       "1            5  \n",
       "2            5  \n",
       "\n",
       "[3 rows x 89 columns]"
      ]
     },
     "execution_count": 9,
     "metadata": {},
     "output_type": "execute_result"
    }
   ],
   "source": [
    "full_df = (\n",
    "    cell_health_df\n",
    "    .merge(\n",
    "        depmap_df,\n",
    "        left_on=[\"Metadata_broad_sample\", \"Metadata_dose_recode\"],\n",
    "        right_on=[\"broad_id\", \"dose_recode\"],\n",
    "        how=\"inner\"\n",
    "    )\n",
    "    .dropna(subset=[\"depmap_viability\"])\n",
    ")\n",
    "\n",
    "output_file = pathlib.Path(\"results\", \"depmap_viability_validation.tsv.gz\")\n",
    "full_df.to_csv(output_file, sep=\"\\t\", index=False)\n",
    "\n",
    "print(full_df.shape)\n",
    "full_df.head(3)"
   ]
  },
  {
   "cell_type": "code",
   "execution_count": 10,
   "metadata": {},
   "outputs": [
    {
     "data": {
      "text/plain": [
       "1382"
      ]
     },
     "execution_count": 10,
     "metadata": {},
     "output_type": "execute_result"
    }
   ],
   "source": [
    "len(full_df.Metadata_broad_sample.unique())"
   ]
  },
  {
   "cell_type": "code",
   "execution_count": 11,
   "metadata": {},
   "outputs": [
    {
     "name": "stderr",
     "output_type": "stream",
     "text": [
      "/Users/gway/miniconda3/envs/cell-health/lib/python3.7/site-packages/plotnine/ggplot.py:706: UserWarning: Saving 3 x 3 in image.\n",
      "  from_inches(height, units), units))\n",
      "/Users/gway/miniconda3/envs/cell-health/lib/python3.7/site-packages/plotnine/ggplot.py:707: UserWarning: Filename: figures/dose_differences.png\n",
      "  warn('Filename: {}'.format(filename))\n"
     ]
    },
    {
     "data": {
      "image/png": "[encoded data removed]",
      "text/plain": [
       "<Figure size 300x301.454 with 1 Axes>"
      ]
     },
     "metadata": {},
     "output_type": "display_data"
    },
    {
     "data": {
      "text/plain": [
       "<ggplot: (309674977)>"
      ]
     },
     "execution_count": 11,
     "metadata": {},
     "output_type": "execute_result"
    }
   ],
   "source": [
    "dose_differences_gg = (\n",
    "    gg.ggplot(full_df, gg.aes(x=\"dose\", y=\"Metadata_mmoles_per_liter\")) +\n",
    "    gg.geom_point(size = 0.5, alpha = 0.6) +\n",
    "    gg.theme_bw() +\n",
    "    gg.geom_abline(slope=1, intercept=0, linetype=\"dashed\", color=\"red\") +\n",
    "    gg.xlab(\"PRISM Dose\") +\n",
    "    gg.ylab(\"Dependency Map Dose\") +\n",
    "    gg.coord_fixed()\n",
    ")\n",
    "\n",
    "output_file = os.path.join(\"figures\", \"dose_differences.png\")\n",
    "dose_differences_gg.save(output_file, dpi = 400, height = 3, width = 3)\n",
    "\n",
    "dose_differences_gg"
   ]
  },
  {
   "cell_type": "markdown",
   "metadata": {},
   "source": [
    "## Obtain Results"
   ]
  },
  {
   "cell_type": "code",
   "execution_count": 12,
   "metadata": {},
   "outputs": [
    {
     "data": {
      "text/html": [
       "<div>\n",
       "<style scoped>\n",
       "    .dataframe tbody tr th:only-of-type {\n",
       "        vertical-align: middle;\n",
       "    }\n",
       "\n",
       "    .dataframe tbody tr th {\n",
       "        vertical-align: top;\n",
       "    }\n",
       "\n",
       "    .dataframe thead th {\n",
       "        text-align: right;\n",
       "    }\n",
       "</style>\n",
       "<table border=\"1\" class=\"dataframe\">\n",
       "  <thead>\n",
       "    <tr style=\"text-align: right;\">\n",
       "      <th></th>\n",
       "      <th>stat</th>\n",
       "      <th>p</th>\n",
       "    </tr>\n",
       "  </thead>\n",
       "  <tbody>\n",
       "    <tr>\n",
       "      <th>0</th>\n",
       "      <td>0.345139</td>\n",
       "      <td>8.185456e-167</td>\n",
       "    </tr>\n",
       "  </tbody>\n",
       "</table>\n",
       "</div>"
      ],
      "text/plain": [
       "       stat              p\n",
       "0  0.345139  8.185456e-167"
      ]
     },
     "execution_count": 12,
     "metadata": {},
     "output_type": "execute_result"
    }
   ],
   "source": [
    "spearman_cor = stats.spearmanr(full_df.cell_health_viability, full_df.depmap_viability)\n",
    "spearman_cor = pd.DataFrame(spearman_cor, index=[\"stat\", \"p\"]).transpose()\n",
    "spearman_cor"
   ]
  },
  {
   "cell_type": "code",
   "execution_count": 13,
   "metadata": {},
   "outputs": [
    {
     "data": {
      "text/plain": [
       "'Spearman = 0.35\\np = 8.19E-167'"
      ]
     },
     "execution_count": 13,
     "metadata": {},
     "output_type": "execute_result"
    }
   ],
   "source": [
    "result_text = \"Spearman = {0:.2f}\\np = {1:.2E}\".format(\n",
    "    spearman_cor.stat[0],\n",
    "    spearman_cor.p[0]\n",
    ")\n",
    "\n",
    "result_text"
   ]
  },
  {
   "cell_type": "code",
   "execution_count": 14,
   "metadata": {},
   "outputs": [
    {
     "name": "stderr",
     "output_type": "stream",
     "text": [
      "/Users/gway/miniconda3/envs/cell-health/lib/python3.7/site-packages/plotnine/ggplot.py:706: UserWarning: Saving 5 x 3 in image.\n",
      "  from_inches(height, units), units))\n",
      "/Users/gway/miniconda3/envs/cell-health/lib/python3.7/site-packages/plotnine/ggplot.py:707: UserWarning: Filename: figures/viability_results.png\n",
      "  warn('Filename: {}'.format(filename))\n",
      "/Users/gway/miniconda3/envs/cell-health/lib/python3.7/site-packages/numpy/core/fromnumeric.py:2389: FutureWarning: Method .ptp is deprecated and will be removed in a future version. Use numpy.ptp instead.\n",
      "  return ptp(axis=axis, out=out, **kwargs)\n",
      "/Users/gway/miniconda3/envs/cell-health/lib/python3.7/site-packages/numpy/core/fromnumeric.py:2389: FutureWarning: Method .ptp is deprecated and will be removed in a future version. Use numpy.ptp instead.\n",
      "  return ptp(axis=axis, out=out, **kwargs)\n"
     ]
    },
    {
     "data": {
      "image/png": "[encoded data removed]",
      "text/plain": [
       "<Figure size 500x518.839 with 1 Axes>"
      ]
     },
     "metadata": {},
     "output_type": "display_data"
    },
    {
     "data": {
      "text/plain": [
       "<ggplot: (-9223372036545293294)>"
      ]
     },
     "execution_count": 14,
     "metadata": {},
     "output_type": "execute_result"
    }
   ],
   "source": [
    "viability_gg = (\n",
    "    gg.ggplot(full_df, gg.aes(x=\"cell_health_viability\", y=\"depmap_viability\")) +\n",
    "    gg.geom_point(size = 0.5, alpha = 0.3) +\n",
    "    gg.theme_bw() +\n",
    "    gg.geom_smooth() +\n",
    "    gg.annotate(\"text\", label = result_text, x = -2, y = -8.5) +\n",
    "    gg.xlab(\"Cell Health Model Predictions (Number of Objects)\") +\n",
    "    gg.ylab(\"Dependency Map Viability\") +\n",
    "    gg.coord_fixed()\n",
    ")\n",
    "\n",
    "output_file = os.path.join(\"figures\", \"viability_results.png\")\n",
    "viability_gg.save(output_file, dpi = 400, height = 3, width = 5)\n",
    "\n",
    "viability_gg"
   ]
  }
 ],
 "metadata": {
  "kernelspec": {
   "display_name": "Python 3",
   "language": "python",
   "name": "python3"
  },
  "language_info": {
   "codemirror_mode": {
    "name": "ipython",
    "version": 3
   },
   "file_extension": ".py",
   "mimetype": "text/x-python",
   "name": "python",
   "nbconvert_exporter": "python",
   "pygments_lexer": "ipython3",
   "version": "3.7.1"
  }
 },
 "nbformat": 4,
 "nbformat_minor": 2
}
